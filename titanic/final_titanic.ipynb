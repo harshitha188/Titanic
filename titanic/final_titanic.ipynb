{
  "nbformat": 4,
  "nbformat_minor": 0,
  "metadata": {
    "colab": {
      "name": "final_titanic.ipynb",
      "provenance": [],
      "mount_file_id": "12lfZzentnwS-iGr2KharEC6FhtMdelRq",
      "authorship_tag": "ABX9TyOl6n3wV2Qo0Qz2NB46hyoL",
      "include_colab_link": true
    },
    "kernelspec": {
      "name": "python3",
      "display_name": "Python 3"
    },
    "language_info": {
      "name": "python"
    }
  },
  "cells": [
    {
      "cell_type": "markdown",
      "metadata": {
        "id": "view-in-github",
        "colab_type": "text"
      },
      "source": [
        "<a href=\"https://colab.research.google.com/github/harshitha188/Titanic/blob/main/titanic/final_titanic.ipynb\" target=\"_parent\"><img src=\"https://colab.research.google.com/assets/colab-badge.svg\" alt=\"Open In Colab\"/></a>"
      ]
    },
    {
      "cell_type": "code",
      "metadata": {
        "id": "aFpBR2qzDRvB"
      },
      "source": [
        "import numpy as np\n",
        "import pandas as pd\n",
        "import matplotlib.pyplot as plt"
      ],
      "execution_count": 1,
      "outputs": []
    },
    {
      "cell_type": "code",
      "metadata": {
        "colab": {
          "base_uri": "https://localhost:8080/",
          "height": 255
        },
        "id": "6vM0WSwsEtUk",
        "outputId": "77ca0863-5fff-414d-a112-27158b2869fc"
      },
      "source": [
        "df=pd.read_csv('/content/drive/MyDrive/train.csv',index_col=None)\n",
        "df.head()"
      ],
      "execution_count": 2,
      "outputs": [
        {
          "output_type": "execute_result",
          "data": {
            "text/html": [
              "<div>\n",
              "<style scoped>\n",
              "    .dataframe tbody tr th:only-of-type {\n",
              "        vertical-align: middle;\n",
              "    }\n",
              "\n",
              "    .dataframe tbody tr th {\n",
              "        vertical-align: top;\n",
              "    }\n",
              "\n",
              "    .dataframe thead th {\n",
              "        text-align: right;\n",
              "    }\n",
              "</style>\n",
              "<table border=\"1\" class=\"dataframe\">\n",
              "  <thead>\n",
              "    <tr style=\"text-align: right;\">\n",
              "      <th></th>\n",
              "      <th>PassengerId</th>\n",
              "      <th>Survived</th>\n",
              "      <th>Pclass</th>\n",
              "      <th>Name</th>\n",
              "      <th>Sex</th>\n",
              "      <th>Age</th>\n",
              "      <th>SibSp</th>\n",
              "      <th>Parch</th>\n",
              "      <th>Ticket</th>\n",
              "      <th>Fare</th>\n",
              "      <th>Cabin</th>\n",
              "      <th>Embarked</th>\n",
              "    </tr>\n",
              "  </thead>\n",
              "  <tbody>\n",
              "    <tr>\n",
              "      <th>0</th>\n",
              "      <td>1</td>\n",
              "      <td>0</td>\n",
              "      <td>3</td>\n",
              "      <td>Braund, Mr. Owen Harris</td>\n",
              "      <td>male</td>\n",
              "      <td>22.0</td>\n",
              "      <td>1</td>\n",
              "      <td>0</td>\n",
              "      <td>A/5 21171</td>\n",
              "      <td>7.2500</td>\n",
              "      <td>NaN</td>\n",
              "      <td>S</td>\n",
              "    </tr>\n",
              "    <tr>\n",
              "      <th>1</th>\n",
              "      <td>2</td>\n",
              "      <td>1</td>\n",
              "      <td>1</td>\n",
              "      <td>Cumings, Mrs. John Bradley (Florence Briggs Th...</td>\n",
              "      <td>female</td>\n",
              "      <td>38.0</td>\n",
              "      <td>1</td>\n",
              "      <td>0</td>\n",
              "      <td>PC 17599</td>\n",
              "      <td>71.2833</td>\n",
              "      <td>C85</td>\n",
              "      <td>C</td>\n",
              "    </tr>\n",
              "    <tr>\n",
              "      <th>2</th>\n",
              "      <td>3</td>\n",
              "      <td>1</td>\n",
              "      <td>3</td>\n",
              "      <td>Heikkinen, Miss. Laina</td>\n",
              "      <td>female</td>\n",
              "      <td>26.0</td>\n",
              "      <td>0</td>\n",
              "      <td>0</td>\n",
              "      <td>STON/O2. 3101282</td>\n",
              "      <td>7.9250</td>\n",
              "      <td>NaN</td>\n",
              "      <td>S</td>\n",
              "    </tr>\n",
              "    <tr>\n",
              "      <th>3</th>\n",
              "      <td>4</td>\n",
              "      <td>1</td>\n",
              "      <td>1</td>\n",
              "      <td>Futrelle, Mrs. Jacques Heath (Lily May Peel)</td>\n",
              "      <td>female</td>\n",
              "      <td>35.0</td>\n",
              "      <td>1</td>\n",
              "      <td>0</td>\n",
              "      <td>113803</td>\n",
              "      <td>53.1000</td>\n",
              "      <td>C123</td>\n",
              "      <td>S</td>\n",
              "    </tr>\n",
              "    <tr>\n",
              "      <th>4</th>\n",
              "      <td>5</td>\n",
              "      <td>0</td>\n",
              "      <td>3</td>\n",
              "      <td>Allen, Mr. William Henry</td>\n",
              "      <td>male</td>\n",
              "      <td>35.0</td>\n",
              "      <td>0</td>\n",
              "      <td>0</td>\n",
              "      <td>373450</td>\n",
              "      <td>8.0500</td>\n",
              "      <td>NaN</td>\n",
              "      <td>S</td>\n",
              "    </tr>\n",
              "  </tbody>\n",
              "</table>\n",
              "</div>"
            ],
            "text/plain": [
              "   PassengerId  Survived  Pclass  ...     Fare Cabin  Embarked\n",
              "0            1         0       3  ...   7.2500   NaN         S\n",
              "1            2         1       1  ...  71.2833   C85         C\n",
              "2            3         1       3  ...   7.9250   NaN         S\n",
              "3            4         1       1  ...  53.1000  C123         S\n",
              "4            5         0       3  ...   8.0500   NaN         S\n",
              "\n",
              "[5 rows x 12 columns]"
            ]
          },
          "metadata": {
            "tags": []
          },
          "execution_count": 2
        }
      ]
    },
    {
      "cell_type": "code",
      "metadata": {
        "colab": {
          "base_uri": "https://localhost:8080/",
          "height": 221
        },
        "id": "V_xtzZTsE4UV",
        "outputId": "c4f61997-9d7d-46bb-ff48-e19ad3d1522f"
      },
      "source": [
        "X=pd.read_csv('/content/drive/MyDrive/test.csv')\n",
        "X.head()"
      ],
      "execution_count": 3,
      "outputs": [
        {
          "output_type": "execute_result",
          "data": {
            "text/html": [
              "<div>\n",
              "<style scoped>\n",
              "    .dataframe tbody tr th:only-of-type {\n",
              "        vertical-align: middle;\n",
              "    }\n",
              "\n",
              "    .dataframe tbody tr th {\n",
              "        vertical-align: top;\n",
              "    }\n",
              "\n",
              "    .dataframe thead th {\n",
              "        text-align: right;\n",
              "    }\n",
              "</style>\n",
              "<table border=\"1\" class=\"dataframe\">\n",
              "  <thead>\n",
              "    <tr style=\"text-align: right;\">\n",
              "      <th></th>\n",
              "      <th>PassengerId</th>\n",
              "      <th>Pclass</th>\n",
              "      <th>Name</th>\n",
              "      <th>Sex</th>\n",
              "      <th>Age</th>\n",
              "      <th>SibSp</th>\n",
              "      <th>Parch</th>\n",
              "      <th>Ticket</th>\n",
              "      <th>Fare</th>\n",
              "      <th>Cabin</th>\n",
              "      <th>Embarked</th>\n",
              "    </tr>\n",
              "  </thead>\n",
              "  <tbody>\n",
              "    <tr>\n",
              "      <th>0</th>\n",
              "      <td>892</td>\n",
              "      <td>3</td>\n",
              "      <td>Kelly, Mr. James</td>\n",
              "      <td>male</td>\n",
              "      <td>34.5</td>\n",
              "      <td>0</td>\n",
              "      <td>0</td>\n",
              "      <td>330911</td>\n",
              "      <td>7.8292</td>\n",
              "      <td>NaN</td>\n",
              "      <td>Q</td>\n",
              "    </tr>\n",
              "    <tr>\n",
              "      <th>1</th>\n",
              "      <td>893</td>\n",
              "      <td>3</td>\n",
              "      <td>Wilkes, Mrs. James (Ellen Needs)</td>\n",
              "      <td>female</td>\n",
              "      <td>47.0</td>\n",
              "      <td>1</td>\n",
              "      <td>0</td>\n",
              "      <td>363272</td>\n",
              "      <td>7.0000</td>\n",
              "      <td>NaN</td>\n",
              "      <td>S</td>\n",
              "    </tr>\n",
              "    <tr>\n",
              "      <th>2</th>\n",
              "      <td>894</td>\n",
              "      <td>2</td>\n",
              "      <td>Myles, Mr. Thomas Francis</td>\n",
              "      <td>male</td>\n",
              "      <td>62.0</td>\n",
              "      <td>0</td>\n",
              "      <td>0</td>\n",
              "      <td>240276</td>\n",
              "      <td>9.6875</td>\n",
              "      <td>NaN</td>\n",
              "      <td>Q</td>\n",
              "    </tr>\n",
              "    <tr>\n",
              "      <th>3</th>\n",
              "      <td>895</td>\n",
              "      <td>3</td>\n",
              "      <td>Wirz, Mr. Albert</td>\n",
              "      <td>male</td>\n",
              "      <td>27.0</td>\n",
              "      <td>0</td>\n",
              "      <td>0</td>\n",
              "      <td>315154</td>\n",
              "      <td>8.6625</td>\n",
              "      <td>NaN</td>\n",
              "      <td>S</td>\n",
              "    </tr>\n",
              "    <tr>\n",
              "      <th>4</th>\n",
              "      <td>896</td>\n",
              "      <td>3</td>\n",
              "      <td>Hirvonen, Mrs. Alexander (Helga E Lindqvist)</td>\n",
              "      <td>female</td>\n",
              "      <td>22.0</td>\n",
              "      <td>1</td>\n",
              "      <td>1</td>\n",
              "      <td>3101298</td>\n",
              "      <td>12.2875</td>\n",
              "      <td>NaN</td>\n",
              "      <td>S</td>\n",
              "    </tr>\n",
              "  </tbody>\n",
              "</table>\n",
              "</div>"
            ],
            "text/plain": [
              "   PassengerId  Pclass  ... Cabin Embarked\n",
              "0          892       3  ...   NaN        Q\n",
              "1          893       3  ...   NaN        S\n",
              "2          894       2  ...   NaN        Q\n",
              "3          895       3  ...   NaN        S\n",
              "4          896       3  ...   NaN        S\n",
              "\n",
              "[5 rows x 11 columns]"
            ]
          },
          "metadata": {
            "tags": []
          },
          "execution_count": 3
        }
      ]
    },
    {
      "cell_type": "code",
      "metadata": {
        "colab": {
          "base_uri": "https://localhost:8080/",
          "height": 419
        },
        "id": "m_y8fcDXFHBo",
        "outputId": "e5c7d979-64be-4e09-be65-672245c6f353"
      },
      "source": [
        "df.iloc[:,:1]#to check if passenger ids are different"
      ],
      "execution_count": 4,
      "outputs": [
        {
          "output_type": "execute_result",
          "data": {
            "text/html": [
              "<div>\n",
              "<style scoped>\n",
              "    .dataframe tbody tr th:only-of-type {\n",
              "        vertical-align: middle;\n",
              "    }\n",
              "\n",
              "    .dataframe tbody tr th {\n",
              "        vertical-align: top;\n",
              "    }\n",
              "\n",
              "    .dataframe thead th {\n",
              "        text-align: right;\n",
              "    }\n",
              "</style>\n",
              "<table border=\"1\" class=\"dataframe\">\n",
              "  <thead>\n",
              "    <tr style=\"text-align: right;\">\n",
              "      <th></th>\n",
              "      <th>PassengerId</th>\n",
              "    </tr>\n",
              "  </thead>\n",
              "  <tbody>\n",
              "    <tr>\n",
              "      <th>0</th>\n",
              "      <td>1</td>\n",
              "    </tr>\n",
              "    <tr>\n",
              "      <th>1</th>\n",
              "      <td>2</td>\n",
              "    </tr>\n",
              "    <tr>\n",
              "      <th>2</th>\n",
              "      <td>3</td>\n",
              "    </tr>\n",
              "    <tr>\n",
              "      <th>3</th>\n",
              "      <td>4</td>\n",
              "    </tr>\n",
              "    <tr>\n",
              "      <th>4</th>\n",
              "      <td>5</td>\n",
              "    </tr>\n",
              "    <tr>\n",
              "      <th>...</th>\n",
              "      <td>...</td>\n",
              "    </tr>\n",
              "    <tr>\n",
              "      <th>886</th>\n",
              "      <td>887</td>\n",
              "    </tr>\n",
              "    <tr>\n",
              "      <th>887</th>\n",
              "      <td>888</td>\n",
              "    </tr>\n",
              "    <tr>\n",
              "      <th>888</th>\n",
              "      <td>889</td>\n",
              "    </tr>\n",
              "    <tr>\n",
              "      <th>889</th>\n",
              "      <td>890</td>\n",
              "    </tr>\n",
              "    <tr>\n",
              "      <th>890</th>\n",
              "      <td>891</td>\n",
              "    </tr>\n",
              "  </tbody>\n",
              "</table>\n",
              "<p>891 rows × 1 columns</p>\n",
              "</div>"
            ],
            "text/plain": [
              "     PassengerId\n",
              "0              1\n",
              "1              2\n",
              "2              3\n",
              "3              4\n",
              "4              5\n",
              "..           ...\n",
              "886          887\n",
              "887          888\n",
              "888          889\n",
              "889          890\n",
              "890          891\n",
              "\n",
              "[891 rows x 1 columns]"
            ]
          },
          "metadata": {
            "tags": []
          },
          "execution_count": 4
        }
      ]
    },
    {
      "cell_type": "code",
      "metadata": {
        "colab": {
          "base_uri": "https://localhost:8080/"
        },
        "id": "isz_3RpAFJLP",
        "outputId": "d69b9384-2889-4066-f181-b1e588c539e2"
      },
      "source": [
        "df.isnull().any()#checking any missing values are present "
      ],
      "execution_count": 5,
      "outputs": [
        {
          "output_type": "execute_result",
          "data": {
            "text/plain": [
              "PassengerId    False\n",
              "Survived       False\n",
              "Pclass         False\n",
              "Name           False\n",
              "Sex            False\n",
              "Age             True\n",
              "SibSp          False\n",
              "Parch          False\n",
              "Ticket         False\n",
              "Fare           False\n",
              "Cabin           True\n",
              "Embarked        True\n",
              "dtype: bool"
            ]
          },
          "metadata": {
            "tags": []
          },
          "execution_count": 5
        }
      ]
    },
    {
      "cell_type": "code",
      "metadata": {
        "colab": {
          "base_uri": "https://localhost:8080/"
        },
        "id": "NK1FWu8vFNab",
        "outputId": "08822616-1b5c-4cc2-ff47-6625e73b239e"
      },
      "source": [
        "df.shape"
      ],
      "execution_count": 6,
      "outputs": [
        {
          "output_type": "execute_result",
          "data": {
            "text/plain": [
              "(891, 12)"
            ]
          },
          "metadata": {
            "tags": []
          },
          "execution_count": 6
        }
      ]
    },
    {
      "cell_type": "code",
      "metadata": {
        "colab": {
          "base_uri": "https://localhost:8080/"
        },
        "id": "-Srqir_kFQYk",
        "outputId": "1227b432-e0e8-4c33-80a1-47cc54a50c88"
      },
      "source": [
        "df.columns"
      ],
      "execution_count": 7,
      "outputs": [
        {
          "output_type": "execute_result",
          "data": {
            "text/plain": [
              "Index(['PassengerId', 'Survived', 'Pclass', 'Name', 'Sex', 'Age', 'SibSp',\n",
              "       'Parch', 'Ticket', 'Fare', 'Cabin', 'Embarked'],\n",
              "      dtype='object')"
            ]
          },
          "metadata": {
            "tags": []
          },
          "execution_count": 7
        }
      ]
    },
    {
      "cell_type": "code",
      "metadata": {
        "colab": {
          "base_uri": "https://localhost:8080/"
        },
        "id": "XyLljesxFVlR",
        "outputId": "4814a284-853e-474e-ced2-14f0e4636ca9"
      },
      "source": [
        "for  col in df.columns:\n",
        "  print(col,df[col].isnull().sum()/df.shape[0],sep=\"  \")"
      ],
      "execution_count": 8,
      "outputs": [
        {
          "output_type": "stream",
          "text": [
            "PassengerId  0.0\n",
            "Survived  0.0\n",
            "Pclass  0.0\n",
            "Name  0.0\n",
            "Sex  0.0\n",
            "Age  0.19865319865319866\n",
            "SibSp  0.0\n",
            "Parch  0.0\n",
            "Ticket  0.0\n",
            "Fare  0.0\n",
            "Cabin  0.7710437710437711\n",
            "Embarked  0.002244668911335578\n"
          ],
          "name": "stdout"
        }
      ]
    },
    {
      "cell_type": "code",
      "metadata": {
        "colab": {
          "base_uri": "https://localhost:8080/"
        },
        "id": "2tGfDKzfFXzH",
        "outputId": "9eba77e6-618d-43a6-b9c1-ebd7bccaafec"
      },
      "source": [
        "df.Survived.value_counts()"
      ],
      "execution_count": 9,
      "outputs": [
        {
          "output_type": "execute_result",
          "data": {
            "text/plain": [
              "0    549\n",
              "1    342\n",
              "Name: Survived, dtype: int64"
            ]
          },
          "metadata": {
            "tags": []
          },
          "execution_count": 9
        }
      ]
    },
    {
      "cell_type": "code",
      "metadata": {
        "colab": {
          "base_uri": "https://localhost:8080/",
          "height": 293
        },
        "id": "cCPZSdv5FbNi",
        "outputId": "efee8fcf-59c1-44a7-ed9c-515567b2eef1"
      },
      "source": [
        "\n",
        "plt=df.Survived.value_counts().plot(kind='bar')\n",
        "plt.set_xlabel('Survived or not')\n",
        "plt.set_ylabel('passenger count')"
      ],
      "execution_count": 10,
      "outputs": [
        {
          "output_type": "execute_result",
          "data": {
            "text/plain": [
              "Text(0, 0.5, 'passenger count')"
            ]
          },
          "metadata": {
            "tags": []
          },
          "execution_count": 10
        },
        {
          "output_type": "display_data",
          "data": {
            "image/png": "[encoded data removed]",
            "text/plain": [
              "<Figure size 432x288 with 1 Axes>"
            ]
          },
          "metadata": {
            "tags": [],
            "needs_background": "light"
          }
        }
      ]
    },
    {
      "cell_type": "code",
      "metadata": {
        "colab": {
          "base_uri": "https://localhost:8080/",
          "height": 293
        },
        "id": "gH93QSfaFf1d",
        "outputId": "09f7277a-98ce-42b3-e946-abafef4177ef"
      },
      "source": [
        "plt = df.Pclass.value_counts().sort_index().plot(kind='bar', title='')\n",
        "plt.set_xlabel('Pclass')\n",
        "plt.set_ylabel('Survival Probability')\n"
      ],
      "execution_count": 11,
      "outputs": [
        {
          "output_type": "execute_result",
          "data": {
            "text/plain": [
              "Text(0, 0.5, 'Survival Probability')"
            ]
          },
          "metadata": {
            "tags": []
          },
          "execution_count": 11
        },
        {
          "output_type": "display_data",
          "data": {
            "image/png": "[encoded data removed]",
            "text/plain": [
              "<Figure size 432x288 with 1 Axes>"
            ]
          },
          "metadata": {
            "tags": [],
            "needs_background": "light"
          }
        }
      ]
    },
    {
      "cell_type": "code",
      "metadata": {
        "colab": {
          "base_uri": "https://localhost:8080/",
          "height": 323
        },
        "id": "8Zk5lLH1Fj_r",
        "outputId": "c74e587f-db88-408f-faf8-80d878b3a1ba"
      },
      "source": [
        "plt = df.Sex.value_counts().sort_index().plot(kind='bar')\n",
        "plt.set_xlabel('Sex')\n",
        "plt.set_ylabel('Passenger count')"
      ],
      "execution_count": 12,
      "outputs": [
        {
          "output_type": "execute_result",
          "data": {
            "text/plain": [
              "Text(0, 0.5, 'Passenger count')"
            ]
          },
          "metadata": {
            "tags": []
          },
          "execution_count": 12
        },
        {
          "output_type": "display_data",
          "data": {
            "image/png": "[encoded data removed]",
            "text/plain": [
              "<Figure size 432x288 with 1 Axes>"
            ]
          },
          "metadata": {
            "tags": [],
            "needs_background": "light"
          }
        }
      ]
    },
    {
      "cell_type": "code",
      "metadata": {
        "colab": {
          "base_uri": "https://localhost:8080/",
          "height": 487
        },
        "id": "rnWBbS5GFoip",
        "outputId": "af3cebd4-8a0d-441f-9798-bed13c342d20"
      },
      "source": [
        "x=df.drop('Cabin',axis=1)\n",
        "x"
      ],
      "execution_count": 13,
      "outputs": [
        {
          "output_type": "execute_result",
          "data": {
            "text/html": [
              "<div>\n",
              "<style scoped>\n",
              "    .dataframe tbody tr th:only-of-type {\n",
              "        vertical-align: middle;\n",
              "    }\n",
              "\n",
              "    .dataframe tbody tr th {\n",
              "        vertical-align: top;\n",
              "    }\n",
              "\n",
              "    .dataframe thead th {\n",
              "        text-align: right;\n",
              "    }\n",
              "</style>\n",
              "<table border=\"1\" class=\"dataframe\">\n",
              "  <thead>\n",
              "    <tr style=\"text-align: right;\">\n",
              "      <th></th>\n",
              "      <th>PassengerId</th>\n",
              "      <th>Survived</th>\n",
              "      <th>Pclass</th>\n",
              "      <th>Name</th>\n",
              "      <th>Sex</th>\n",
              "      <th>Age</th>\n",
              "      <th>SibSp</th>\n",
              "      <th>Parch</th>\n",
              "      <th>Ticket</th>\n",
              "      <th>Fare</th>\n",
              "      <th>Embarked</th>\n",
              "    </tr>\n",
              "  </thead>\n",
              "  <tbody>\n",
              "    <tr>\n",
              "      <th>0</th>\n",
              "      <td>1</td>\n",
              "      <td>0</td>\n",
              "      <td>3</td>\n",
              "      <td>Braund, Mr. Owen Harris</td>\n",
              "      <td>male</td>\n",
              "      <td>22.0</td>\n",
              "      <td>1</td>\n",
              "      <td>0</td>\n",
              "      <td>A/5 21171</td>\n",
              "      <td>7.2500</td>\n",
              "      <td>S</td>\n",
              "    </tr>\n",
              "    <tr>\n",
              "      <th>1</th>\n",
              "      <td>2</td>\n",
              "      <td>1</td>\n",
              "      <td>1</td>\n",
              "      <td>Cumings, Mrs. John Bradley (Florence Briggs Th...</td>\n",
              "      <td>female</td>\n",
              "      <td>38.0</td>\n",
              "      <td>1</td>\n",
              "      <td>0</td>\n",
              "      <td>PC 17599</td>\n",
              "      <td>71.2833</td>\n",
              "      <td>C</td>\n",
              "    </tr>\n",
              "    <tr>\n",
              "      <th>2</th>\n",
              "      <td>3</td>\n",
              "      <td>1</td>\n",
              "      <td>3</td>\n",
              "      <td>Heikkinen, Miss. Laina</td>\n",
              "      <td>female</td>\n",
              "      <td>26.0</td>\n",
              "      <td>0</td>\n",
              "      <td>0</td>\n",
              "      <td>STON/O2. 3101282</td>\n",
              "      <td>7.9250</td>\n",
              "      <td>S</td>\n",
              "    </tr>\n",
              "    <tr>\n",
              "      <th>3</th>\n",
              "      <td>4</td>\n",
              "      <td>1</td>\n",
              "      <td>1</td>\n",
              "      <td>Futrelle, Mrs. Jacques Heath (Lily May Peel)</td>\n",
              "      <td>female</td>\n",
              "      <td>35.0</td>\n",
              "      <td>1</td>\n",
              "      <td>0</td>\n",
              "      <td>113803</td>\n",
              "      <td>53.1000</td>\n",
              "      <td>S</td>\n",
              "    </tr>\n",
              "    <tr>\n",
              "      <th>4</th>\n",
              "      <td>5</td>\n",
              "      <td>0</td>\n",
              "      <td>3</td>\n",
              "      <td>Allen, Mr. William Henry</td>\n",
              "      <td>male</td>\n",
              "      <td>35.0</td>\n",
              "      <td>0</td>\n",
              "      <td>0</td>\n",
              "      <td>373450</td>\n",
              "      <td>8.0500</td>\n",
              "      <td>S</td>\n",
              "    </tr>\n",
              "    <tr>\n",
              "      <th>...</th>\n",
              "      <td>...</td>\n",
              "      <td>...</td>\n",
              "      <td>...</td>\n",
              "      <td>...</td>\n",
              "      <td>...</td>\n",
              "      <td>...</td>\n",
              "      <td>...</td>\n",
              "      <td>...</td>\n",
              "      <td>...</td>\n",
              "      <td>...</td>\n",
              "      <td>...</td>\n",
              "    </tr>\n",
              "    <tr>\n",
              "      <th>886</th>\n",
              "      <td>887</td>\n",
              "      <td>0</td>\n",
              "      <td>2</td>\n",
              "      <td>Montvila, Rev. Juozas</td>\n",
              "      <td>male</td>\n",
              "      <td>27.0</td>\n",
              "      <td>0</td>\n",
              "      <td>0</td>\n",
              "      <td>211536</td>\n",
              "      <td>13.0000</td>\n",
              "      <td>S</td>\n",
              "    </tr>\n",
              "    <tr>\n",
              "      <th>887</th>\n",
              "      <td>888</td>\n",
              "      <td>1</td>\n",
              "      <td>1</td>\n",
              "      <td>Graham, Miss. Margaret Edith</td>\n",
              "      <td>female</td>\n",
              "      <td>19.0</td>\n",
              "      <td>0</td>\n",
              "      <td>0</td>\n",
              "      <td>112053</td>\n",
              "      <td>30.0000</td>\n",
              "      <td>S</td>\n",
              "    </tr>\n",
              "    <tr>\n",
              "      <th>888</th>\n",
              "      <td>889</td>\n",
              "      <td>0</td>\n",
              "      <td>3</td>\n",
              "      <td>Johnston, Miss. Catherine Helen \"Carrie\"</td>\n",
              "      <td>female</td>\n",
              "      <td>NaN</td>\n",
              "      <td>1</td>\n",
              "      <td>2</td>\n",
              "      <td>W./C. 6607</td>\n",
              "      <td>23.4500</td>\n",
              "      <td>S</td>\n",
              "    </tr>\n",
              "    <tr>\n",
              "      <th>889</th>\n",
              "      <td>890</td>\n",
              "      <td>1</td>\n",
              "      <td>1</td>\n",
              "      <td>Behr, Mr. Karl Howell</td>\n",
              "      <td>male</td>\n",
              "      <td>26.0</td>\n",
              "      <td>0</td>\n",
              "      <td>0</td>\n",
              "      <td>111369</td>\n",
              "      <td>30.0000</td>\n",
              "      <td>C</td>\n",
              "    </tr>\n",
              "    <tr>\n",
              "      <th>890</th>\n",
              "      <td>891</td>\n",
              "      <td>0</td>\n",
              "      <td>3</td>\n",
              "      <td>Dooley, Mr. Patrick</td>\n",
              "      <td>male</td>\n",
              "      <td>32.0</td>\n",
              "      <td>0</td>\n",
              "      <td>0</td>\n",
              "      <td>370376</td>\n",
              "      <td>7.7500</td>\n",
              "      <td>Q</td>\n",
              "    </tr>\n",
              "  </tbody>\n",
              "</table>\n",
              "<p>891 rows × 11 columns</p>\n",
              "</div>"
            ],
            "text/plain": [
              "     PassengerId  Survived  Pclass  ...            Ticket     Fare  Embarked\n",
              "0              1         0       3  ...         A/5 21171   7.2500         S\n",
              "1              2         1       1  ...          PC 17599  71.2833         C\n",
              "2              3         1       3  ...  STON/O2. 3101282   7.9250         S\n",
              "3              4         1       1  ...            113803  53.1000         S\n",
              "4              5         0       3  ...            373450   8.0500         S\n",
              "..           ...       ...     ...  ...               ...      ...       ...\n",
              "886          887         0       2  ...            211536  13.0000         S\n",
              "887          888         1       1  ...            112053  30.0000         S\n",
              "888          889         0       3  ...        W./C. 6607  23.4500         S\n",
              "889          890         1       1  ...            111369  30.0000         C\n",
              "890          891         0       3  ...            370376   7.7500         Q\n",
              "\n",
              "[891 rows x 11 columns]"
            ]
          },
          "metadata": {
            "tags": []
          },
          "execution_count": 13
        }
      ]
    },
    {
      "cell_type": "code",
      "metadata": {
        "colab": {
          "base_uri": "https://localhost:8080/"
        },
        "id": "VEGin-XLFtCJ",
        "outputId": "7c4dbd28-a327-4464-ce14-ab3a1e9353dc"
      },
      "source": [
        "df['Embarked'].unique()"
      ],
      "execution_count": 14,
      "outputs": [
        {
          "output_type": "execute_result",
          "data": {
            "text/plain": [
              "array(['S', 'C', 'Q', nan], dtype=object)"
            ]
          },
          "metadata": {
            "tags": []
          },
          "execution_count": 14
        }
      ]
    },
    {
      "cell_type": "code",
      "metadata": {
        "colab": {
          "base_uri": "https://localhost:8080/"
        },
        "id": "4Of8reiyFwDM",
        "outputId": "5ae3469b-14b5-4305-cb6b-a73ca2fdde30"
      },
      "source": [
        "df.dtypes"
      ],
      "execution_count": 15,
      "outputs": [
        {
          "output_type": "execute_result",
          "data": {
            "text/plain": [
              "PassengerId      int64\n",
              "Survived         int64\n",
              "Pclass           int64\n",
              "Name            object\n",
              "Sex             object\n",
              "Age            float64\n",
              "SibSp            int64\n",
              "Parch            int64\n",
              "Ticket          object\n",
              "Fare           float64\n",
              "Cabin           object\n",
              "Embarked        object\n",
              "dtype: object"
            ]
          },
          "metadata": {
            "tags": []
          },
          "execution_count": 15
        }
      ]
    },
    {
      "cell_type": "code",
      "metadata": {
        "colab": {
          "base_uri": "https://localhost:8080/"
        },
        "id": "v14J06wiFzQR",
        "outputId": "ee5545c3-5faa-4eda-a9a0-d516f372cbff"
      },
      "source": [
        "x['Age'].fillna(value=x['Age'].median(),inplace=True)\n",
        "x.dtypes"
      ],
      "execution_count": 16,
      "outputs": [
        {
          "output_type": "execute_result",
          "data": {
            "text/plain": [
              "PassengerId      int64\n",
              "Survived         int64\n",
              "Pclass           int64\n",
              "Name            object\n",
              "Sex             object\n",
              "Age            float64\n",
              "SibSp            int64\n",
              "Parch            int64\n",
              "Ticket          object\n",
              "Fare           float64\n",
              "Embarked        object\n",
              "dtype: object"
            ]
          },
          "metadata": {
            "tags": []
          },
          "execution_count": 16
        }
      ]
    },
    {
      "cell_type": "code",
      "metadata": {
        "colab": {
          "base_uri": "https://localhost:8080/"
        },
        "id": "S7hk3F8-F2sZ",
        "outputId": "2df2f71a-848c-4785-d7be-ad79a4b89196"
      },
      "source": [
        "x.isnull().any()"
      ],
      "execution_count": 17,
      "outputs": [
        {
          "output_type": "execute_result",
          "data": {
            "text/plain": [
              "PassengerId    False\n",
              "Survived       False\n",
              "Pclass         False\n",
              "Name           False\n",
              "Sex            False\n",
              "Age            False\n",
              "SibSp          False\n",
              "Parch          False\n",
              "Ticket         False\n",
              "Fare           False\n",
              "Embarked        True\n",
              "dtype: bool"
            ]
          },
          "metadata": {
            "tags": []
          },
          "execution_count": 17
        }
      ]
    },
    {
      "cell_type": "code",
      "metadata": {
        "id": "cDx_PMnYF6OG"
      },
      "source": [
        "from sklearn.impute import SimpleImputer\n",
        "sc=SimpleImputer(missing_values=np.nan,strategy='most_frequent')"
      ],
      "execution_count": 18,
      "outputs": []
    },
    {
      "cell_type": "code",
      "metadata": {
        "id": "-c25wFN1F-Ut"
      },
      "source": [
        "dt=x['Embarked']"
      ],
      "execution_count": 19,
      "outputs": []
    },
    {
      "cell_type": "code",
      "metadata": {
        "id": "HhNW0eFfGD87"
      },
      "source": [
        "temp=x.loc[:,['Embarked','Age']]\n",
        "temp=sc.fit_transform(temp)#it returns array of same type henced if any object types are present\n",
        "#all values will become object type\n",
        "#temp.shape"
      ],
      "execution_count": 20,
      "outputs": []
    },
    {
      "cell_type": "code",
      "metadata": {
        "colab": {
          "base_uri": "https://localhost:8080/"
        },
        "id": "Dd6XRaTmGH3G",
        "outputId": "580631ed-a8eb-4b6e-e405-ce0085a59e09"
      },
      "source": [
        "temp# to know if we can perform imputation on numerical and categorical data combined...no we can't"
      ],
      "execution_count": 21,
      "outputs": [
        {
          "output_type": "execute_result",
          "data": {
            "text/plain": [
              "array([['S', 22.0],\n",
              "       ['C', 38.0],\n",
              "       ['S', 26.0],\n",
              "       ...,\n",
              "       ['S', 28.0],\n",
              "       ['C', 26.0],\n",
              "       ['Q', 32.0]], dtype=object)"
            ]
          },
          "metadata": {
            "tags": []
          },
          "execution_count": 21
        }
      ]
    },
    {
      "cell_type": "code",
      "metadata": {
        "colab": {
          "base_uri": "https://localhost:8080/"
        },
        "id": "cCVmgXEUGHzj",
        "outputId": "fdf58f58-faca-428a-e1a5-965f53075761"
      },
      "source": [
        "dt=np.array(dt)\n",
        "dt=sc.fit_transform(dt.reshape(-1,1))#reshape was required as it was just 1d array\n",
        "#dataframe.info() this is also new thing to learn\n",
        "#learn by observing things from others code since u are new to  it \n",
        "#never do it on own since its time waste and frustating to develop from scratch \n",
        "#do how much is needed and spend time on it based on priority \n",
        "dt"
      ],
      "execution_count": 22,
      "outputs": [
        {
          "output_type": "execute_result",
          "data": {
            "text/plain": [
              "array([['S'],\n",
              "       ['C'],\n",
              "       ['S'],\n",
              "       ['S'],\n",
              "       ['S'],\n",
              "       ['Q'],\n",
              "       ['S'],\n",
              "       ['S'],\n",
              "       ['S'],\n",
              "       ['C'],\n",
              "       ['S'],\n",
              "       ['S'],\n",
              "       ['S'],\n",
              "       ['S'],\n",
              "       ['S'],\n",
              "       ['S'],\n",
              "       ['Q'],\n",
              "       ['S'],\n",
              "       ['S'],\n",
              "       ['C'],\n",
              "       ['S'],\n",
              "       ['S'],\n",
              "       ['Q'],\n",
              "       ['S'],\n",
              "       ['S'],\n",
              "       ['S'],\n",
              "       ['C'],\n",
              "       ['S'],\n",
              "       ['Q'],\n",
              "       ['S'],\n",
              "       ['C'],\n",
              "       ['C'],\n",
              "       ['Q'],\n",
              "       ['S'],\n",
              "       ['C'],\n",
              "       ['S'],\n",
              "       ['C'],\n",
              "       ['S'],\n",
              "       ['S'],\n",
              "       ['C'],\n",
              "       ['S'],\n",
              "       ['S'],\n",
              "       ['C'],\n",
              "       ['C'],\n",
              "       ['Q'],\n",
              "       ['S'],\n",
              "       ['Q'],\n",
              "       ['Q'],\n",
              "       ['C'],\n",
              "       ['S'],\n",
              "       ['S'],\n",
              "       ['S'],\n",
              "       ['C'],\n",
              "       ['S'],\n",
              "       ['C'],\n",
              "       ['S'],\n",
              "       ['S'],\n",
              "       ['C'],\n",
              "       ['S'],\n",
              "       ['S'],\n",
              "       ['C'],\n",
              "       ['S'],\n",
              "       ['S'],\n",
              "       ['S'],\n",
              "       ['C'],\n",
              "       ['C'],\n",
              "       ['S'],\n",
              "       ['S'],\n",
              "       ['S'],\n",
              "       ['S'],\n",
              "       ['S'],\n",
              "       ['S'],\n",
              "       ['S'],\n",
              "       ['C'],\n",
              "       ['S'],\n",
              "       ['S'],\n",
              "       ['S'],\n",
              "       ['S'],\n",
              "       ['S'],\n",
              "       ['S'],\n",
              "       ['S'],\n",
              "       ['S'],\n",
              "       ['Q'],\n",
              "       ['S'],\n",
              "       ['S'],\n",
              "       ['S'],\n",
              "       ['S'],\n",
              "       ['S'],\n",
              "       ['S'],\n",
              "       ['S'],\n",
              "       ['S'],\n",
              "       ['S'],\n",
              "       ['S'],\n",
              "       ['S'],\n",
              "       ['S'],\n",
              "       ['S'],\n",
              "       ['C'],\n",
              "       ['C'],\n",
              "       ['S'],\n",
              "       ['S'],\n",
              "       ['S'],\n",
              "       ['S'],\n",
              "       ['S'],\n",
              "       ['S'],\n",
              "       ['S'],\n",
              "       ['S'],\n",
              "       ['S'],\n",
              "       ['S'],\n",
              "       ['S'],\n",
              "       ['Q'],\n",
              "       ['S'],\n",
              "       ['C'],\n",
              "       ['S'],\n",
              "       ['S'],\n",
              "       ['C'],\n",
              "       ['S'],\n",
              "       ['Q'],\n",
              "       ['S'],\n",
              "       ['C'],\n",
              "       ['S'],\n",
              "       ['S'],\n",
              "       ['S'],\n",
              "       ['C'],\n",
              "       ['S'],\n",
              "       ['S'],\n",
              "       ['C'],\n",
              "       ['Q'],\n",
              "       ['S'],\n",
              "       ['C'],\n",
              "       ['S'],\n",
              "       ['C'],\n",
              "       ['S'],\n",
              "       ['S'],\n",
              "       ['S'],\n",
              "       ['S'],\n",
              "       ['C'],\n",
              "       ['S'],\n",
              "       ['S'],\n",
              "       ['S'],\n",
              "       ['C'],\n",
              "       ['C'],\n",
              "       ['S'],\n",
              "       ['S'],\n",
              "       ['Q'],\n",
              "       ['S'],\n",
              "       ['S'],\n",
              "       ['S'],\n",
              "       ['S'],\n",
              "       ['S'],\n",
              "       ['S'],\n",
              "       ['S'],\n",
              "       ['S'],\n",
              "       ['S'],\n",
              "       ['S'],\n",
              "       ['S'],\n",
              "       ['C'],\n",
              "       ['Q'],\n",
              "       ['S'],\n",
              "       ['S'],\n",
              "       ['S'],\n",
              "       ['S'],\n",
              "       ['S'],\n",
              "       ['S'],\n",
              "       ['S'],\n",
              "       ['S'],\n",
              "       ['S'],\n",
              "       ['S'],\n",
              "       ['S'],\n",
              "       ['S'],\n",
              "       ['S'],\n",
              "       ['S'],\n",
              "       ['Q'],\n",
              "       ['S'],\n",
              "       ['S'],\n",
              "       ['C'],\n",
              "       ['S'],\n",
              "       ['S'],\n",
              "       ['C'],\n",
              "       ['S'],\n",
              "       ['S'],\n",
              "       ['S'],\n",
              "       ['C'],\n",
              "       ['S'],\n",
              "       ['S'],\n",
              "       ['S'],\n",
              "       ['S'],\n",
              "       ['Q'],\n",
              "       ['S'],\n",
              "       ['Q'],\n",
              "       ['S'],\n",
              "       ['S'],\n",
              "       ['S'],\n",
              "       ['S'],\n",
              "       ['S'],\n",
              "       ['C'],\n",
              "       ['C'],\n",
              "       ['Q'],\n",
              "       ['S'],\n",
              "       ['Q'],\n",
              "       ['S'],\n",
              "       ['S'],\n",
              "       ['S'],\n",
              "       ['S'],\n",
              "       ['C'],\n",
              "       ['S'],\n",
              "       ['S'],\n",
              "       ['S'],\n",
              "       ['C'],\n",
              "       ['Q'],\n",
              "       ['C'],\n",
              "       ['S'],\n",
              "       ['S'],\n",
              "       ['S'],\n",
              "       ['S'],\n",
              "       ['Q'],\n",
              "       ['C'],\n",
              "       ['S'],\n",
              "       ['S'],\n",
              "       ['C'],\n",
              "       ['S'],\n",
              "       ['S'],\n",
              "       ['S'],\n",
              "       ['S'],\n",
              "       ['S'],\n",
              "       ['S'],\n",
              "       ['S'],\n",
              "       ['S'],\n",
              "       ['S'],\n",
              "       ['S'],\n",
              "       ['S'],\n",
              "       ['S'],\n",
              "       ['S'],\n",
              "       ['S'],\n",
              "       ['S'],\n",
              "       ['S'],\n",
              "       ['S'],\n",
              "       ['S'],\n",
              "       ['S'],\n",
              "       ['S'],\n",
              "       ['S'],\n",
              "       ['C'],\n",
              "       ['Q'],\n",
              "       ['S'],\n",
              "       ['S'],\n",
              "       ['C'],\n",
              "       ['Q'],\n",
              "       ['S'],\n",
              "       ['S'],\n",
              "       ['S'],\n",
              "       ['S'],\n",
              "       ['S'],\n",
              "       ['S'],\n",
              "       ['S'],\n",
              "       ['S'],\n",
              "       ['S'],\n",
              "       ['C'],\n",
              "       ['C'],\n",
              "       ['S'],\n",
              "       ['C'],\n",
              "       ['S'],\n",
              "       ['Q'],\n",
              "       ['S'],\n",
              "       ['S'],\n",
              "       ['S'],\n",
              "       ['Q'],\n",
              "       ['S'],\n",
              "       ['S'],\n",
              "       ['S'],\n",
              "       ['S'],\n",
              "       ['S'],\n",
              "       ['S'],\n",
              "       ['S'],\n",
              "       ['S'],\n",
              "       ['C'],\n",
              "       ['Q'],\n",
              "       ['S'],\n",
              "       ['S'],\n",
              "       ['S'],\n",
              "       ['Q'],\n",
              "       ['S'],\n",
              "       ['Q'],\n",
              "       ['S'],\n",
              "       ['S'],\n",
              "       ['S'],\n",
              "       ['S'],\n",
              "       ['C'],\n",
              "       ['S'],\n",
              "       ['S'],\n",
              "       ['S'],\n",
              "       ['Q'],\n",
              "       ['S'],\n",
              "       ['C'],\n",
              "       ['C'],\n",
              "       ['S'],\n",
              "       ['S'],\n",
              "       ['C'],\n",
              "       ['C'],\n",
              "       ['S'],\n",
              "       ['S'],\n",
              "       ['C'],\n",
              "       ['Q'],\n",
              "       ['Q'],\n",
              "       ['S'],\n",
              "       ['Q'],\n",
              "       ['S'],\n",
              "       ['S'],\n",
              "       ['C'],\n",
              "       ['C'],\n",
              "       ['C'],\n",
              "       ['C'],\n",
              "       ['C'],\n",
              "       ['C'],\n",
              "       ['S'],\n",
              "       ['S'],\n",
              "       ['S'],\n",
              "       ['S'],\n",
              "       ['S'],\n",
              "       ['S'],\n",
              "       ['S'],\n",
              "       ['C'],\n",
              "       ['S'],\n",
              "       ['S'],\n",
              "       ['Q'],\n",
              "       ['S'],\n",
              "       ['S'],\n",
              "       ['C'],\n",
              "       ['S'],\n",
              "       ['S'],\n",
              "       ['S'],\n",
              "       ['C'],\n",
              "       ['Q'],\n",
              "       ['S'],\n",
              "       ['S'],\n",
              "       ['S'],\n",
              "       ['S'],\n",
              "       ['S'],\n",
              "       ['S'],\n",
              "       ['C'],\n",
              "       ['S'],\n",
              "       ['S'],\n",
              "       ['S'],\n",
              "       ['S'],\n",
              "       ['S'],\n",
              "       ['S'],\n",
              "       ['S'],\n",
              "       ['S'],\n",
              "       ['S'],\n",
              "       ['S'],\n",
              "       ['S'],\n",
              "       ['S'],\n",
              "       ['S'],\n",
              "       ['S'],\n",
              "       ['C'],\n",
              "       ['S'],\n",
              "       ['C'],\n",
              "       ['S'],\n",
              "       ['S'],\n",
              "       ['S'],\n",
              "       ['Q'],\n",
              "       ['Q'],\n",
              "       ['S'],\n",
              "       ['C'],\n",
              "       ['C'],\n",
              "       ['S'],\n",
              "       ['Q'],\n",
              "       ['S'],\n",
              "       ['C'],\n",
              "       ['C'],\n",
              "       ['Q'],\n",
              "       ['C'],\n",
              "       ['C'],\n",
              "       ['S'],\n",
              "       ['S'],\n",
              "       ['C'],\n",
              "       ['S'],\n",
              "       ['C'],\n",
              "       ['S'],\n",
              "       ['C'],\n",
              "       ['C'],\n",
              "       ['S'],\n",
              "       ['C'],\n",
              "       ['C'],\n",
              "       ['S'],\n",
              "       ['S'],\n",
              "       ['S'],\n",
              "       ['S'],\n",
              "       ['S'],\n",
              "       ['S'],\n",
              "       ['Q'],\n",
              "       ['C'],\n",
              "       ['S'],\n",
              "       ['S'],\n",
              "       ['S'],\n",
              "       ['C'],\n",
              "       ['S'],\n",
              "       ['S'],\n",
              "       ['S'],\n",
              "       ['S'],\n",
              "       ['S'],\n",
              "       ['S'],\n",
              "       ['S'],\n",
              "       ['S'],\n",
              "       ['S'],\n",
              "       ['S'],\n",
              "       ['S'],\n",
              "       ['S'],\n",
              "       ['S'],\n",
              "       ['S'],\n",
              "       ['S'],\n",
              "       ['S'],\n",
              "       ['S'],\n",
              "       ['Q'],\n",
              "       ['Q'],\n",
              "       ['S'],\n",
              "       ['S'],\n",
              "       ['S'],\n",
              "       ['S'],\n",
              "       ['S'],\n",
              "       ['S'],\n",
              "       ['S'],\n",
              "       ['C'],\n",
              "       ['Q'],\n",
              "       ['S'],\n",
              "       ['S'],\n",
              "       ['S'],\n",
              "       ['S'],\n",
              "       ['S'],\n",
              "       ['S'],\n",
              "       ['Q'],\n",
              "       ['S'],\n",
              "       ['S'],\n",
              "       ['S'],\n",
              "       ['S'],\n",
              "       ['S'],\n",
              "       ['S'],\n",
              "       ['S'],\n",
              "       ['S'],\n",
              "       ['S'],\n",
              "       ['S'],\n",
              "       ['S'],\n",
              "       ['S'],\n",
              "       ['S'],\n",
              "       ['S'],\n",
              "       ['S'],\n",
              "       ['S'],\n",
              "       ['S'],\n",
              "       ['S'],\n",
              "       ['S'],\n",
              "       ['C'],\n",
              "       ['S'],\n",
              "       ['S'],\n",
              "       ['S'],\n",
              "       ['C'],\n",
              "       ['C'],\n",
              "       ['S'],\n",
              "       ['C'],\n",
              "       ['S'],\n",
              "       ['S'],\n",
              "       ['S'],\n",
              "       ['Q'],\n",
              "       ['S'],\n",
              "       ['S'],\n",
              "       ['S'],\n",
              "       ['S'],\n",
              "       ['S'],\n",
              "       ['S'],\n",
              "       ['S'],\n",
              "       ['S'],\n",
              "       ['Q'],\n",
              "       ['C'],\n",
              "       ['S'],\n",
              "       ['S'],\n",
              "       ['S'],\n",
              "       ['C'],\n",
              "       ['S'],\n",
              "       ['S'],\n",
              "       ['S'],\n",
              "       ['S'],\n",
              "       ['S'],\n",
              "       ['S'],\n",
              "       ['S'],\n",
              "       ['S'],\n",
              "       ['S'],\n",
              "       ['S'],\n",
              "       ['C'],\n",
              "       ['S'],\n",
              "       ['S'],\n",
              "       ['C'],\n",
              "       ['S'],\n",
              "       ['S'],\n",
              "       ['S'],\n",
              "       ['S'],\n",
              "       ['S'],\n",
              "       ['C'],\n",
              "       ['S'],\n",
              "       ['C'],\n",
              "       ['C'],\n",
              "       ['S'],\n",
              "       ['S'],\n",
              "       ['S'],\n",
              "       ['S'],\n",
              "       ['Q'],\n",
              "       ['Q'],\n",
              "       ['S'],\n",
              "       ['S'],\n",
              "       ['C'],\n",
              "       ['S'],\n",
              "       ['S'],\n",
              "       ['S'],\n",
              "       ['S'],\n",
              "       ['Q'],\n",
              "       ['S'],\n",
              "       ['S'],\n",
              "       ['C'],\n",
              "       ['S'],\n",
              "       ['S'],\n",
              "       ['S'],\n",
              "       ['Q'],\n",
              "       ['S'],\n",
              "       ['S'],\n",
              "       ['S'],\n",
              "       ['S'],\n",
              "       ['C'],\n",
              "       ['C'],\n",
              "       ['C'],\n",
              "       ['Q'],\n",
              "       ['S'],\n",
              "       ['S'],\n",
              "       ['S'],\n",
              "       ['S'],\n",
              "       ['S'],\n",
              "       ['C'],\n",
              "       ['C'],\n",
              "       ['C'],\n",
              "       ['S'],\n",
              "       ['S'],\n",
              "       ['S'],\n",
              "       ['C'],\n",
              "       ['S'],\n",
              "       ['C'],\n",
              "       ['S'],\n",
              "       ['S'],\n",
              "       ['S'],\n",
              "       ['S'],\n",
              "       ['C'],\n",
              "       ['S'],\n",
              "       ['S'],\n",
              "       ['C'],\n",
              "       ['S'],\n",
              "       ['S'],\n",
              "       ['C'],\n",
              "       ['S'],\n",
              "       ['Q'],\n",
              "       ['C'],\n",
              "       ['S'],\n",
              "       ['S'],\n",
              "       ['C'],\n",
              "       ['C'],\n",
              "       ['S'],\n",
              "       ['S'],\n",
              "       ['Q'],\n",
              "       ['S'],\n",
              "       ['S'],\n",
              "       ['S'],\n",
              "       ['S'],\n",
              "       ['S'],\n",
              "       ['S'],\n",
              "       ['S'],\n",
              "       ['C'],\n",
              "       ['S'],\n",
              "       ['S'],\n",
              "       ['S'],\n",
              "       ['S'],\n",
              "       ['Q'],\n",
              "       ['S'],\n",
              "       ['S'],\n",
              "       ['S'],\n",
              "       ['S'],\n",
              "       ['C'],\n",
              "       ['S'],\n",
              "       ['S'],\n",
              "       ['C'],\n",
              "       ['S'],\n",
              "       ['C'],\n",
              "       ['C'],\n",
              "       ['S'],\n",
              "       ['S'],\n",
              "       ['C'],\n",
              "       ['S'],\n",
              "       ['S'],\n",
              "       ['S'],\n",
              "       ['C'],\n",
              "       ['S'],\n",
              "       ['Q'],\n",
              "       ['S'],\n",
              "       ['S'],\n",
              "       ['S'],\n",
              "       ['S'],\n",
              "       ['C'],\n",
              "       ['C'],\n",
              "       ['S'],\n",
              "       ['S'],\n",
              "       ['S'],\n",
              "       ['S'],\n",
              "       ['C'],\n",
              "       ['S'],\n",
              "       ['S'],\n",
              "       ['S'],\n",
              "       ['C'],\n",
              "       ['S'],\n",
              "       ['S'],\n",
              "       ['S'],\n",
              "       ['Q'],\n",
              "       ['Q'],\n",
              "       ['S'],\n",
              "       ['S'],\n",
              "       ['S'],\n",
              "       ['S'],\n",
              "       ['S'],\n",
              "       ['S'],\n",
              "       ['C'],\n",
              "       ['S'],\n",
              "       ['C'],\n",
              "       ['S'],\n",
              "       ['S'],\n",
              "       ['S'],\n",
              "       ['Q'],\n",
              "       ['S'],\n",
              "       ['S'],\n",
              "       ['Q'],\n",
              "       ['S'],\n",
              "       ['S'],\n",
              "       ['C'],\n",
              "       ['S'],\n",
              "       ['S'],\n",
              "       ['S'],\n",
              "       ['S'],\n",
              "       ['S'],\n",
              "       ['S'],\n",
              "       ['S'],\n",
              "       ['S'],\n",
              "       ['C'],\n",
              "       ['S'],\n",
              "       ['S'],\n",
              "       ['C'],\n",
              "       ['C'],\n",
              "       ['S'],\n",
              "       ['C'],\n",
              "       ['S'],\n",
              "       ['S'],\n",
              "       ['S'],\n",
              "       ['S'],\n",
              "       ['S'],\n",
              "       ['Q'],\n",
              "       ['Q'],\n",
              "       ['S'],\n",
              "       ['S'],\n",
              "       ['Q'],\n",
              "       ['S'],\n",
              "       ['C'],\n",
              "       ['S'],\n",
              "       ['C'],\n",
              "       ['S'],\n",
              "       ['S'],\n",
              "       ['S'],\n",
              "       ['S'],\n",
              "       ['S'],\n",
              "       ['S'],\n",
              "       ['S'],\n",
              "       ['S'],\n",
              "       ['S'],\n",
              "       ['S'],\n",
              "       ['S'],\n",
              "       ['S'],\n",
              "       ['S'],\n",
              "       ['S'],\n",
              "       ['S'],\n",
              "       ['S'],\n",
              "       ['S'],\n",
              "       ['C'],\n",
              "       ['Q'],\n",
              "       ['C'],\n",
              "       ['S'],\n",
              "       ['S'],\n",
              "       ['S'],\n",
              "       ['C'],\n",
              "       ['S'],\n",
              "       ['S'],\n",
              "       ['S'],\n",
              "       ['S'],\n",
              "       ['S'],\n",
              "       ['C'],\n",
              "       ['S'],\n",
              "       ['C'],\n",
              "       ['S'],\n",
              "       ['S'],\n",
              "       ['S'],\n",
              "       ['Q'],\n",
              "       ['C'],\n",
              "       ['S'],\n",
              "       ['C'],\n",
              "       ['S'],\n",
              "       ['C'],\n",
              "       ['Q'],\n",
              "       ['S'],\n",
              "       ['S'],\n",
              "       ['S'],\n",
              "       ['S'],\n",
              "       ['S'],\n",
              "       ['C'],\n",
              "       ['C'],\n",
              "       ['S'],\n",
              "       ['S'],\n",
              "       ['S'],\n",
              "       ['S'],\n",
              "       ['S'],\n",
              "       ['C'],\n",
              "       ['S'],\n",
              "       ['Q'],\n",
              "       ['S'],\n",
              "       ['S'],\n",
              "       ['S'],\n",
              "       ['S'],\n",
              "       ['S'],\n",
              "       ['S'],\n",
              "       ['S'],\n",
              "       ['S'],\n",
              "       ['Q'],\n",
              "       ['S'],\n",
              "       ['S'],\n",
              "       ['S'],\n",
              "       ['C'],\n",
              "       ['S'],\n",
              "       ['S'],\n",
              "       ['S'],\n",
              "       ['S'],\n",
              "       ['S'],\n",
              "       ['C'],\n",
              "       ['S'],\n",
              "       ['S'],\n",
              "       ['S'],\n",
              "       ['S'],\n",
              "       ['C'],\n",
              "       ['S'],\n",
              "       ['S'],\n",
              "       ['S'],\n",
              "       ['S'],\n",
              "       ['S'],\n",
              "       ['S'],\n",
              "       ['Q'],\n",
              "       ['S'],\n",
              "       ['S'],\n",
              "       ['S'],\n",
              "       ['S'],\n",
              "       ['S'],\n",
              "       ['S'],\n",
              "       ['S'],\n",
              "       ['S'],\n",
              "       ['S'],\n",
              "       ['S'],\n",
              "       ['S'],\n",
              "       ['S'],\n",
              "       ['C'],\n",
              "       ['S'],\n",
              "       ['S'],\n",
              "       ['S'],\n",
              "       ['C'],\n",
              "       ['Q'],\n",
              "       ['Q'],\n",
              "       ['S'],\n",
              "       ['S'],\n",
              "       ['S'],\n",
              "       ['S'],\n",
              "       ['C'],\n",
              "       ['S'],\n",
              "       ['S'],\n",
              "       ['Q'],\n",
              "       ['S'],\n",
              "       ['Q'],\n",
              "       ['S'],\n",
              "       ['C'],\n",
              "       ['S'],\n",
              "       ['S'],\n",
              "       ['S'],\n",
              "       ['S'],\n",
              "       ['S'],\n",
              "       ['S'],\n",
              "       ['Q'],\n",
              "       ['S'],\n",
              "       ['C'],\n",
              "       ['Q'],\n",
              "       ['S'],\n",
              "       ['S'],\n",
              "       ['C'],\n",
              "       ['S'],\n",
              "       ['S'],\n",
              "       ['S'],\n",
              "       ['S'],\n",
              "       ['C'],\n",
              "       ['S'],\n",
              "       ['S'],\n",
              "       ['S'],\n",
              "       ['S'],\n",
              "       ['C'],\n",
              "       ['S'],\n",
              "       ['S'],\n",
              "       ['S'],\n",
              "       ['S'],\n",
              "       ['S'],\n",
              "       ['S'],\n",
              "       ['S'],\n",
              "       ['S'],\n",
              "       ['S'],\n",
              "       ['S'],\n",
              "       ['S'],\n",
              "       ['S'],\n",
              "       ['S'],\n",
              "       ['C'],\n",
              "       ['S'],\n",
              "       ['S'],\n",
              "       ['S'],\n",
              "       ['S'],\n",
              "       ['S'],\n",
              "       ['S'],\n",
              "       ['S'],\n",
              "       ['Q'],\n",
              "       ['S'],\n",
              "       ['C'],\n",
              "       ['Q'],\n",
              "       ['S'],\n",
              "       ['C'],\n",
              "       ['S'],\n",
              "       ['C'],\n",
              "       ['S'],\n",
              "       ['S'],\n",
              "       ['C'],\n",
              "       ['S'],\n",
              "       ['S'],\n",
              "       ['S'],\n",
              "       ['C'],\n",
              "       ['S'],\n",
              "       ['S'],\n",
              "       ['C'],\n",
              "       ['C'],\n",
              "       ['S'],\n",
              "       ['S'],\n",
              "       ['S'],\n",
              "       ['C'],\n",
              "       ['S'],\n",
              "       ['C'],\n",
              "       ['S'],\n",
              "       ['S'],\n",
              "       ['C'],\n",
              "       ['S'],\n",
              "       ['S'],\n",
              "       ['S'],\n",
              "       ['S'],\n",
              "       ['S'],\n",
              "       ['C'],\n",
              "       ['C'],\n",
              "       ['S'],\n",
              "       ['S'],\n",
              "       ['S'],\n",
              "       ['S'],\n",
              "       ['S'],\n",
              "       ['S'],\n",
              "       ['C'],\n",
              "       ['S'],\n",
              "       ['S'],\n",
              "       ['S'],\n",
              "       ['S'],\n",
              "       ['S'],\n",
              "       ['S'],\n",
              "       ['S'],\n",
              "       ['C'],\n",
              "       ['C'],\n",
              "       ['S'],\n",
              "       ['S'],\n",
              "       ['S'],\n",
              "       ['C'],\n",
              "       ['S'],\n",
              "       ['S'],\n",
              "       ['S'],\n",
              "       ['S'],\n",
              "       ['S'],\n",
              "       ['Q'],\n",
              "       ['S'],\n",
              "       ['S'],\n",
              "       ['S'],\n",
              "       ['C'],\n",
              "       ['Q']], dtype=object)"
            ]
          },
          "metadata": {
            "tags": []
          },
          "execution_count": 22
        }
      ]
    },
    {
      "cell_type": "code",
      "metadata": {
        "colab": {
          "base_uri": "https://localhost:8080/",
          "height": 487
        },
        "id": "eTBlRWzoGQqw",
        "outputId": "9e7bd1ba-0d3f-438b-9e24-cd039a52fa05"
      },
      "source": [
        "x['Embarked']=dt\n",
        "x"
      ],
      "execution_count": 23,
      "outputs": [
        {
          "output_type": "execute_result",
          "data": {
            "text/html": [
              "<div>\n",
              "<style scoped>\n",
              "    .dataframe tbody tr th:only-of-type {\n",
              "        vertical-align: middle;\n",
              "    }\n",
              "\n",
              "    .dataframe tbody tr th {\n",
              "        vertical-align: top;\n",
              "    }\n",
              "\n",
              "    .dataframe thead th {\n",
              "        text-align: right;\n",
              "    }\n",
              "</style>\n",
              "<table border=\"1\" class=\"dataframe\">\n",
              "  <thead>\n",
              "    <tr style=\"text-align: right;\">\n",
              "      <th></th>\n",
              "      <th>PassengerId</th>\n",
              "      <th>Survived</th>\n",
              "      <th>Pclass</th>\n",
              "      <th>Name</th>\n",
              "      <th>Sex</th>\n",
              "      <th>Age</th>\n",
              "      <th>SibSp</th>\n",
              "      <th>Parch</th>\n",
              "      <th>Ticket</th>\n",
              "      <th>Fare</th>\n",
              "      <th>Embarked</th>\n",
              "    </tr>\n",
              "  </thead>\n",
              "  <tbody>\n",
              "    <tr>\n",
              "      <th>0</th>\n",
              "      <td>1</td>\n",
              "      <td>0</td>\n",
              "      <td>3</td>\n",
              "      <td>Braund, Mr. Owen Harris</td>\n",
              "      <td>male</td>\n",
              "      <td>22.0</td>\n",
              "      <td>1</td>\n",
              "      <td>0</td>\n",
              "      <td>A/5 21171</td>\n",
              "      <td>7.2500</td>\n",
              "      <td>S</td>\n",
              "    </tr>\n",
              "    <tr>\n",
              "      <th>1</th>\n",
              "      <td>2</td>\n",
              "      <td>1</td>\n",
              "      <td>1</td>\n",
              "      <td>Cumings, Mrs. John Bradley (Florence Briggs Th...</td>\n",
              "      <td>female</td>\n",
              "      <td>38.0</td>\n",
              "      <td>1</td>\n",
              "      <td>0</td>\n",
              "      <td>PC 17599</td>\n",
              "      <td>71.2833</td>\n",
              "      <td>C</td>\n",
              "    </tr>\n",
              "    <tr>\n",
              "      <th>2</th>\n",
              "      <td>3</td>\n",
              "      <td>1</td>\n",
              "      <td>3</td>\n",
              "      <td>Heikkinen, Miss. Laina</td>\n",
              "      <td>female</td>\n",
              "      <td>26.0</td>\n",
              "      <td>0</td>\n",
              "      <td>0</td>\n",
              "      <td>STON/O2. 3101282</td>\n",
              "      <td>7.9250</td>\n",
              "      <td>S</td>\n",
              "    </tr>\n",
              "    <tr>\n",
              "      <th>3</th>\n",
              "      <td>4</td>\n",
              "      <td>1</td>\n",
              "      <td>1</td>\n",
              "      <td>Futrelle, Mrs. Jacques Heath (Lily May Peel)</td>\n",
              "      <td>female</td>\n",
              "      <td>35.0</td>\n",
              "      <td>1</td>\n",
              "      <td>0</td>\n",
              "      <td>113803</td>\n",
              "      <td>53.1000</td>\n",
              "      <td>S</td>\n",
              "    </tr>\n",
              "    <tr>\n",
              "      <th>4</th>\n",
              "      <td>5</td>\n",
              "      <td>0</td>\n",
              "      <td>3</td>\n",
              "      <td>Allen, Mr. William Henry</td>\n",
              "      <td>male</td>\n",
              "      <td>35.0</td>\n",
              "      <td>0</td>\n",
              "      <td>0</td>\n",
              "      <td>373450</td>\n",
              "      <td>8.0500</td>\n",
              "      <td>S</td>\n",
              "    </tr>\n",
              "    <tr>\n",
              "      <th>...</th>\n",
              "      <td>...</td>\n",
              "      <td>...</td>\n",
              "      <td>...</td>\n",
              "      <td>...</td>\n",
              "      <td>...</td>\n",
              "      <td>...</td>\n",
              "      <td>...</td>\n",
              "      <td>...</td>\n",
              "      <td>...</td>\n",
              "      <td>...</td>\n",
              "      <td>...</td>\n",
              "    </tr>\n",
              "    <tr>\n",
              "      <th>886</th>\n",
              "      <td>887</td>\n",
              "      <td>0</td>\n",
              "      <td>2</td>\n",
              "      <td>Montvila, Rev. Juozas</td>\n",
              "      <td>male</td>\n",
              "      <td>27.0</td>\n",
              "      <td>0</td>\n",
              "      <td>0</td>\n",
              "      <td>211536</td>\n",
              "      <td>13.0000</td>\n",
              "      <td>S</td>\n",
              "    </tr>\n",
              "    <tr>\n",
              "      <th>887</th>\n",
              "      <td>888</td>\n",
              "      <td>1</td>\n",
              "      <td>1</td>\n",
              "      <td>Graham, Miss. Margaret Edith</td>\n",
              "      <td>female</td>\n",
              "      <td>19.0</td>\n",
              "      <td>0</td>\n",
              "      <td>0</td>\n",
              "      <td>112053</td>\n",
              "      <td>30.0000</td>\n",
              "      <td>S</td>\n",
              "    </tr>\n",
              "    <tr>\n",
              "      <th>888</th>\n",
              "      <td>889</td>\n",
              "      <td>0</td>\n",
              "      <td>3</td>\n",
              "      <td>Johnston, Miss. Catherine Helen \"Carrie\"</td>\n",
              "      <td>female</td>\n",
              "      <td>28.0</td>\n",
              "      <td>1</td>\n",
              "      <td>2</td>\n",
              "      <td>W./C. 6607</td>\n",
              "      <td>23.4500</td>\n",
              "      <td>S</td>\n",
              "    </tr>\n",
              "    <tr>\n",
              "      <th>889</th>\n",
              "      <td>890</td>\n",
              "      <td>1</td>\n",
              "      <td>1</td>\n",
              "      <td>Behr, Mr. Karl Howell</td>\n",
              "      <td>male</td>\n",
              "      <td>26.0</td>\n",
              "      <td>0</td>\n",
              "      <td>0</td>\n",
              "      <td>111369</td>\n",
              "      <td>30.0000</td>\n",
              "      <td>C</td>\n",
              "    </tr>\n",
              "    <tr>\n",
              "      <th>890</th>\n",
              "      <td>891</td>\n",
              "      <td>0</td>\n",
              "      <td>3</td>\n",
              "      <td>Dooley, Mr. Patrick</td>\n",
              "      <td>male</td>\n",
              "      <td>32.0</td>\n",
              "      <td>0</td>\n",
              "      <td>0</td>\n",
              "      <td>370376</td>\n",
              "      <td>7.7500</td>\n",
              "      <td>Q</td>\n",
              "    </tr>\n",
              "  </tbody>\n",
              "</table>\n",
              "<p>891 rows × 11 columns</p>\n",
              "</div>"
            ],
            "text/plain": [
              "     PassengerId  Survived  Pclass  ...            Ticket     Fare  Embarked\n",
              "0              1         0       3  ...         A/5 21171   7.2500         S\n",
              "1              2         1       1  ...          PC 17599  71.2833         C\n",
              "2              3         1       3  ...  STON/O2. 3101282   7.9250         S\n",
              "3              4         1       1  ...            113803  53.1000         S\n",
              "4              5         0       3  ...            373450   8.0500         S\n",
              "..           ...       ...     ...  ...               ...      ...       ...\n",
              "886          887         0       2  ...            211536  13.0000         S\n",
              "887          888         1       1  ...            112053  30.0000         S\n",
              "888          889         0       3  ...        W./C. 6607  23.4500         S\n",
              "889          890         1       1  ...            111369  30.0000         C\n",
              "890          891         0       3  ...            370376   7.7500         Q\n",
              "\n",
              "[891 rows x 11 columns]"
            ]
          },
          "metadata": {
            "tags": []
          },
          "execution_count": 23
        }
      ]
    },
    {
      "cell_type": "code",
      "metadata": {
        "colab": {
          "base_uri": "https://localhost:8080/"
        },
        "id": "Em3-k7tMGWPL",
        "outputId": "ad706aa9-be4f-4795-88e3-566412b2868f"
      },
      "source": [
        "x.dtypes"
      ],
      "execution_count": 24,
      "outputs": [
        {
          "output_type": "execute_result",
          "data": {
            "text/plain": [
              "PassengerId      int64\n",
              "Survived         int64\n",
              "Pclass           int64\n",
              "Name            object\n",
              "Sex             object\n",
              "Age            float64\n",
              "SibSp            int64\n",
              "Parch            int64\n",
              "Ticket          object\n",
              "Fare           float64\n",
              "Embarked        object\n",
              "dtype: object"
            ]
          },
          "metadata": {
            "tags": []
          },
          "execution_count": 24
        }
      ]
    },
    {
      "cell_type": "code",
      "metadata": {
        "colab": {
          "base_uri": "https://localhost:8080/"
        },
        "id": "iMM5bsNXGaE-",
        "outputId": "71d58450-79f4-4bcf-d0b6-454f623e72ad"
      },
      "source": [
        "x.drop(['Name'],axis=1,inplace=True)\n",
        "x.dtypes"
      ],
      "execution_count": 25,
      "outputs": [
        {
          "output_type": "execute_result",
          "data": {
            "text/plain": [
              "PassengerId      int64\n",
              "Survived         int64\n",
              "Pclass           int64\n",
              "Sex             object\n",
              "Age            float64\n",
              "SibSp            int64\n",
              "Parch            int64\n",
              "Ticket          object\n",
              "Fare           float64\n",
              "Embarked        object\n",
              "dtype: object"
            ]
          },
          "metadata": {
            "tags": []
          },
          "execution_count": 25
        }
      ]
    },
    {
      "cell_type": "code",
      "metadata": {
        "colab": {
          "base_uri": "https://localhost:8080/"
        },
        "id": "Jji0Jw9rGdYi",
        "outputId": "f65f3049-a56a-494c-dc11-b38e0a8af987"
      },
      "source": [
        "x.drop(['Ticket'],axis=1,inplace=True)\n",
        "x.dtypes"
      ],
      "execution_count": 26,
      "outputs": [
        {
          "output_type": "execute_result",
          "data": {
            "text/plain": [
              "PassengerId      int64\n",
              "Survived         int64\n",
              "Pclass           int64\n",
              "Sex             object\n",
              "Age            float64\n",
              "SibSp            int64\n",
              "Parch            int64\n",
              "Fare           float64\n",
              "Embarked        object\n",
              "dtype: object"
            ]
          },
          "metadata": {
            "tags": []
          },
          "execution_count": 26
        }
      ]
    },
    {
      "cell_type": "code",
      "metadata": {
        "id": "1V5UZg4LGiPq"
      },
      "source": [
        "from sklearn.preprocessing import OneHotEncoder\n",
        "oe=OneHotEncoder(handle_unknown='ignore',sparse=False)#using onehotencoder\n",
        "#problem in one hot encoding is concatination of two data frames\n",
        "#has to learn creating new features\n",
        "## practise  to have more visualizations and correlation graphs so that u will have more information \n",
        "## and observations and good understanding on your data\n",
        "##better to have labels "
      ],
      "execution_count": 27,
      "outputs": []
    },
    {
      "cell_type": "code",
      "metadata": {
        "id": "lVi9GIWeGsT6"
      },
      "source": [
        "temp=x.loc[:,['Embarked','Sex']]\n",
        "temp=oe.fit_transform(temp)"
      ],
      "execution_count": 28,
      "outputs": []
    },
    {
      "cell_type": "code",
      "metadata": {
        "colab": {
          "base_uri": "https://localhost:8080/"
        },
        "id": "btl0kPPVGvvV",
        "outputId": "b9c1a45c-185f-42b2-c043-ac4532bd37b2"
      },
      "source": [
        "x.drop(['Embarked','Sex'],axis=1,inplace=True)\n",
        "x.dtypes"
      ],
      "execution_count": 29,
      "outputs": [
        {
          "output_type": "execute_result",
          "data": {
            "text/plain": [
              "PassengerId      int64\n",
              "Survived         int64\n",
              "Pclass           int64\n",
              "Age            float64\n",
              "SibSp            int64\n",
              "Parch            int64\n",
              "Fare           float64\n",
              "dtype: object"
            ]
          },
          "metadata": {
            "tags": []
          },
          "execution_count": 29
        }
      ]
    },
    {
      "cell_type": "code",
      "metadata": {
        "colab": {
          "base_uri": "https://localhost:8080/"
        },
        "id": "LHwwEpqAG1pX",
        "outputId": "38a0c28c-7bf2-4efa-c0c7-473235fc7e2d"
      },
      "source": [
        "y_train=np.array(x['Survived'])\n",
        "y_train"
      ],
      "execution_count": 30,
      "outputs": [
        {
          "output_type": "execute_result",
          "data": {
            "text/plain": [
              "array([0, 1, 1, 1, 0, 0, 0, 0, 1, 1, 1, 1, 0, 0, 0, 1, 0, 1, 0, 1, 0, 1,\n",
              "       1, 1, 0, 1, 0, 0, 1, 0, 0, 1, 1, 0, 0, 0, 1, 0, 0, 1, 0, 0, 0, 1,\n",
              "       1, 0, 0, 1, 0, 0, 0, 0, 1, 1, 0, 1, 1, 0, 1, 0, 0, 1, 0, 0, 0, 1,\n",
              "       1, 0, 1, 0, 0, 0, 0, 0, 1, 0, 0, 0, 1, 1, 0, 1, 1, 0, 1, 1, 0, 0,\n",
              "       1, 0, 0, 0, 0, 0, 0, 0, 0, 1, 1, 0, 0, 0, 0, 0, 0, 0, 1, 1, 0, 1,\n",
              "       0, 0, 0, 0, 0, 0, 0, 0, 0, 0, 0, 0, 0, 1, 0, 1, 0, 1, 1, 0, 0, 0,\n",
              "       0, 1, 0, 0, 1, 0, 0, 0, 0, 1, 1, 0, 0, 0, 1, 0, 0, 0, 0, 1, 0, 0,\n",
              "       0, 0, 1, 0, 0, 0, 0, 1, 0, 0, 0, 1, 1, 0, 0, 0, 0, 0, 1, 0, 0, 0,\n",
              "       0, 0, 0, 0, 0, 0, 0, 1, 1, 0, 1, 1, 0, 0, 1, 0, 1, 1, 1, 1, 0, 0,\n",
              "       1, 0, 0, 0, 0, 0, 1, 0, 0, 1, 1, 1, 0, 1, 0, 0, 0, 1, 1, 0, 1, 0,\n",
              "       1, 0, 0, 0, 1, 0, 1, 0, 0, 0, 1, 0, 0, 1, 0, 0, 0, 1, 0, 0, 0, 1,\n",
              "       0, 0, 0, 0, 0, 1, 1, 0, 0, 0, 0, 0, 0, 1, 1, 1, 1, 1, 0, 1, 0, 0,\n",
              "       0, 0, 0, 1, 1, 1, 0, 1, 1, 0, 1, 1, 0, 0, 0, 1, 0, 0, 0, 1, 0, 0,\n",
              "       1, 0, 1, 1, 1, 1, 0, 0, 0, 0, 0, 0, 1, 1, 1, 1, 0, 1, 0, 1, 1, 1,\n",
              "       0, 1, 1, 1, 0, 0, 0, 1, 1, 0, 1, 1, 0, 0, 1, 1, 0, 1, 0, 1, 1, 1,\n",
              "       1, 0, 0, 0, 1, 0, 0, 1, 1, 0, 1, 1, 0, 0, 0, 1, 1, 1, 1, 0, 0, 0,\n",
              "       0, 0, 0, 0, 1, 0, 1, 1, 0, 0, 0, 0, 0, 0, 1, 1, 1, 1, 1, 0, 0, 0,\n",
              "       0, 1, 1, 0, 0, 0, 1, 1, 0, 1, 0, 0, 0, 1, 0, 1, 1, 1, 0, 1, 1, 0,\n",
              "       0, 0, 0, 1, 1, 0, 0, 0, 0, 0, 0, 1, 0, 0, 0, 0, 1, 0, 1, 0, 1, 1,\n",
              "       0, 0, 0, 0, 0, 0, 0, 0, 1, 1, 0, 1, 1, 1, 1, 0, 0, 1, 0, 1, 0, 0,\n",
              "       1, 0, 0, 1, 1, 1, 1, 1, 1, 1, 0, 0, 0, 1, 0, 1, 0, 1, 1, 0, 1, 0,\n",
              "       0, 0, 0, 0, 0, 0, 0, 1, 0, 0, 1, 1, 0, 0, 0, 0, 0, 1, 0, 0, 0, 1,\n",
              "       1, 0, 1, 0, 0, 1, 0, 0, 0, 0, 0, 0, 1, 0, 0, 0, 0, 0, 0, 0, 1, 0,\n",
              "       1, 1, 0, 1, 1, 0, 1, 1, 0, 0, 1, 0, 1, 0, 1, 0, 0, 1, 0, 0, 1, 0,\n",
              "       0, 0, 1, 0, 0, 1, 0, 1, 0, 1, 0, 1, 1, 0, 0, 1, 0, 0, 1, 1, 0, 1,\n",
              "       1, 0, 0, 1, 1, 0, 1, 0, 1, 1, 0, 0, 0, 0, 0, 0, 0, 0, 0, 1, 1, 1,\n",
              "       1, 1, 0, 0, 1, 1, 0, 1, 1, 1, 0, 0, 0, 1, 0, 1, 0, 0, 0, 1, 0, 0,\n",
              "       0, 0, 1, 0, 0, 1, 1, 0, 0, 0, 1, 0, 0, 1, 1, 1, 0, 0, 1, 0, 0, 1,\n",
              "       0, 0, 1, 0, 0, 1, 1, 0, 0, 0, 0, 1, 0, 0, 1, 0, 1, 0, 0, 1, 0, 0,\n",
              "       0, 0, 0, 1, 0, 1, 1, 1, 0, 1, 0, 1, 0, 1, 0, 1, 0, 0, 0, 0, 0, 0,\n",
              "       1, 0, 0, 0, 1, 0, 0, 0, 0, 1, 1, 0, 0, 1, 0, 0, 0, 1, 0, 1, 0, 1,\n",
              "       0, 0, 0, 0, 0, 0, 0, 1, 1, 1, 1, 0, 0, 0, 0, 1, 0, 0, 1, 1, 0, 0,\n",
              "       0, 0, 1, 1, 1, 1, 1, 0, 1, 0, 0, 0, 1, 1, 0, 0, 1, 0, 0, 0, 1, 0,\n",
              "       1, 1, 0, 0, 1, 0, 0, 0, 0, 0, 0, 1, 0, 0, 1, 0, 1, 0, 1, 0, 0, 1,\n",
              "       0, 0, 1, 1, 0, 0, 1, 1, 0, 0, 0, 1, 0, 0, 1, 1, 0, 1, 0, 0, 0, 0,\n",
              "       0, 0, 0, 0, 1, 0, 0, 1, 0, 1, 1, 1, 0, 0, 0, 0, 1, 0, 1, 0, 0, 0,\n",
              "       0, 0, 0, 0, 1, 1, 0, 0, 0, 1, 1, 1, 1, 0, 0, 0, 0, 1, 0, 0, 0, 0,\n",
              "       0, 0, 0, 0, 0, 0, 1, 1, 0, 1, 0, 0, 0, 1, 1, 1, 1, 1, 0, 0, 0, 1,\n",
              "       0, 0, 1, 1, 0, 0, 1, 0, 0, 0, 0, 0, 0, 1, 0, 0, 0, 1, 0, 1, 1, 1,\n",
              "       1, 0, 0, 0, 1, 0, 0, 1, 1, 0, 0, 1, 0, 1, 0, 0, 1, 1, 0, 0, 0, 1,\n",
              "       1, 0, 0, 0, 0, 0, 0, 1, 0, 1, 0])"
            ]
          },
          "metadata": {
            "tags": []
          },
          "execution_count": 30
        }
      ]
    },
    {
      "cell_type": "code",
      "metadata": {
        "id": "bTDFpl5lG7fu"
      },
      "source": [
        "x.drop(['Survived'],inplace=True,axis=1)"
      ],
      "execution_count": 31,
      "outputs": []
    },
    {
      "cell_type": "code",
      "metadata": {
        "colab": {
          "base_uri": "https://localhost:8080/"
        },
        "id": "t1i4cGUhG_Gl",
        "outputId": "7073c003-432e-4d62-bbab-dbaff5698300"
      },
      "source": [
        "x_train=np.concatenate((np.array(x),temp),axis=1)\n",
        "x_train"
      ],
      "execution_count": 32,
      "outputs": [
        {
          "output_type": "execute_result",
          "data": {
            "text/plain": [
              "array([[  1.,   3.,  22., ...,   1.,   0.,   1.],\n",
              "       [  2.,   1.,  38., ...,   0.,   1.,   0.],\n",
              "       [  3.,   3.,  26., ...,   1.,   1.,   0.],\n",
              "       ...,\n",
              "       [889.,   3.,  28., ...,   1.,   1.,   0.],\n",
              "       [890.,   1.,  26., ...,   0.,   0.,   1.],\n",
              "       [891.,   3.,  32., ...,   0.,   0.,   1.]])"
            ]
          },
          "metadata": {
            "tags": []
          },
          "execution_count": 32
        }
      ]
    },
    {
      "cell_type": "code",
      "metadata": {
        "id": "3Sq9VhcGHAb4"
      },
      "source": [
        "#grisearchcv can be used now \n",
        "from sklearn.model_selection import GridSearchCV\n",
        "from sklearn.ensemble import RandomForestClassifier\n",
        "rfc=RandomForestClassifier()\n",
        "grid_para={\n",
        "    'n_estimators': [200, 500],\n",
        "    'max_features': ['auto', 'sqrt', 'log2'],\n",
        "    'max_depth' : [4,5,6,7,8],\n",
        "    'criterion' :['gini', 'entropy']\n",
        "}\n",
        "grfc=GridSearchCV(estimator=rfc,param_grid=grid_para,cv=10)"
      ],
      "execution_count": 33,
      "outputs": []
    },
    {
      "cell_type": "code",
      "metadata": {
        "colab": {
          "base_uri": "https://localhost:8080/"
        },
        "id": "pRBxIYSZHFOy",
        "outputId": "1ff56456-88e9-4fae-e4a7-9fef962e0743"
      },
      "source": [
        "grfc.fit(x_train,y_train)"
      ],
      "execution_count": 54,
      "outputs": [
        {
          "output_type": "execute_result",
          "data": {
            "text/plain": [
              "GridSearchCV(cv=10, error_score=nan,\n",
              "             estimator=RandomForestClassifier(bootstrap=True, ccp_alpha=0.0,\n",
              "                                              class_weight=None,\n",
              "                                              criterion='gini', max_depth=None,\n",
              "                                              max_features='auto',\n",
              "                                              max_leaf_nodes=None,\n",
              "                                              max_samples=None,\n",
              "                                              min_impurity_decrease=0.0,\n",
              "                                              min_impurity_split=None,\n",
              "                                              min_samples_leaf=1,\n",
              "                                              min_samples_split=2,\n",
              "                                              min_weight_fraction_leaf=0.0,\n",
              "                                              n_estimators=100, n_jobs=None,\n",
              "                                              oob_score=False,\n",
              "                                              random_state=None, verbose=0,\n",
              "                                              warm_start=False),\n",
              "             iid='deprecated', n_jobs=None,\n",
              "             param_grid={'criterion': ['gini', 'entropy'],\n",
              "                         'max_depth': [4, 5, 6, 7, 8],\n",
              "                         'max_features': ['auto', 'sqrt', 'log2'],\n",
              "                         'n_estimators': [200, 500]},\n",
              "             pre_dispatch='2*n_jobs', refit=True, return_train_score=False,\n",
              "             scoring=None, verbose=0)"
            ]
          },
          "metadata": {
            "tags": []
          },
          "execution_count": 54
        }
      ]
    },
    {
      "cell_type": "code",
      "metadata": {
        "colab": {
          "base_uri": "https://localhost:8080/"
        },
        "id": "3TVwfaqjHKs2",
        "outputId": "2f357e74-a285-4e4e-e051-f833ff2df690"
      },
      "source": [
        "grfc.best_score_"
      ],
      "execution_count": 55,
      "outputs": [
        {
          "output_type": "execute_result",
          "data": {
            "text/plain": [
              "0.8230242566510173"
            ]
          },
          "metadata": {
            "tags": []
          },
          "execution_count": 55
        }
      ]
    },
    {
      "cell_type": "code",
      "metadata": {
        "id": "-IuCG_PFHLwe"
      },
      "source": [
        "rfc1 = RandomForestClassifier(n_estimators=500,max_depth=7,criterion='gini',max_features='log2')"
      ],
      "execution_count": 36,
      "outputs": []
    },
    {
      "cell_type": "code",
      "metadata": {
        "id": "wOLMpGGhHOPc"
      },
      "source": [
        "from sklearn.model_selection import train_test_split\n",
        "x_train,x_test,y_train,y_test=train_test_split(x_train,y_train,test_size=0.2,random_state=10)"
      ],
      "execution_count": 37,
      "outputs": []
    },
    {
      "cell_type": "code",
      "metadata": {
        "id": "rBQSO2_RHS0b"
      },
      "source": [
        "rfc1.fit(x_train,y_train)\n",
        "y_pred=rfc1.predict(x_test)\n",
        "from sklearn.metrics import accuracy_score\n",
        "acc = accuracy_score(y_test,y_pred)"
      ],
      "execution_count": 38,
      "outputs": []
    },
    {
      "cell_type": "code",
      "metadata": {
        "colab": {
          "base_uri": "https://localhost:8080/"
        },
        "id": "mgBCKOroHVvR",
        "outputId": "be89302f-e79a-4eaa-cc0d-19fb77b611f7"
      },
      "source": [
        "acc"
      ],
      "execution_count": 40,
      "outputs": [
        {
          "output_type": "execute_result",
          "data": {
            "text/plain": [
              "0.8603351955307262"
            ]
          },
          "metadata": {
            "tags": []
          },
          "execution_count": 40
        }
      ]
    },
    {
      "cell_type": "code",
      "metadata": {
        "colab": {
          "base_uri": "https://localhost:8080/"
        },
        "id": "8s1hbkjiHYpA",
        "outputId": "a7be5a2f-c792-4f7d-976f-23c2bd8d5f09"
      },
      "source": [
        "df.dtypes"
      ],
      "execution_count": 41,
      "outputs": [
        {
          "output_type": "execute_result",
          "data": {
            "text/plain": [
              "PassengerId      int64\n",
              "Survived         int64\n",
              "Pclass           int64\n",
              "Name            object\n",
              "Sex             object\n",
              "Age            float64\n",
              "SibSp            int64\n",
              "Parch            int64\n",
              "Ticket          object\n",
              "Fare           float64\n",
              "Cabin           object\n",
              "Embarked        object\n",
              "dtype: object"
            ]
          },
          "metadata": {
            "tags": []
          },
          "execution_count": 41
        }
      ]
    },
    {
      "cell_type": "code",
      "metadata": {
        "colab": {
          "base_uri": "https://localhost:8080/"
        },
        "id": "dsnvn5bdHb23",
        "outputId": "852af9e7-2411-4faa-f77c-eaa4137476cc"
      },
      "source": [
        "X.isnull().any()"
      ],
      "execution_count": 42,
      "outputs": [
        {
          "output_type": "execute_result",
          "data": {
            "text/plain": [
              "PassengerId    False\n",
              "Pclass         False\n",
              "Name           False\n",
              "Sex            False\n",
              "Age             True\n",
              "SibSp          False\n",
              "Parch          False\n",
              "Ticket         False\n",
              "Fare            True\n",
              "Cabin           True\n",
              "Embarked       False\n",
              "dtype: bool"
            ]
          },
          "metadata": {
            "tags": []
          },
          "execution_count": 42
        }
      ]
    },
    {
      "cell_type": "code",
      "metadata": {
        "colab": {
          "base_uri": "https://localhost:8080/"
        },
        "id": "DvAIzH2aHfkR",
        "outputId": "b582f121-e196-4f53-c0e5-ff5d5fa83271"
      },
      "source": [
        "for col in X.columns:\n",
        "   print(col,X[col].isnull().sum()/X.shape[0])"
      ],
      "execution_count": 45,
      "outputs": [
        {
          "output_type": "stream",
          "text": [
            "PassengerId 0.0\n",
            "Pclass 0.0\n",
            "Name 0.0\n",
            "Sex 0.0\n",
            "Age 0.20574162679425836\n",
            "SibSp 0.0\n",
            "Parch 0.0\n",
            "Ticket 0.0\n",
            "Fare 0.0023923444976076554\n",
            "Cabin 0.7822966507177034\n",
            "Embarked 0.0\n"
          ],
          "name": "stdout"
        }
      ]
    },
    {
      "cell_type": "code",
      "metadata": {
        "id": "LME2aQ9UHjK2"
      },
      "source": [
        "X.drop(['Cabin','Name'],inplace=True,axis=1)"
      ],
      "execution_count": 46,
      "outputs": []
    },
    {
      "cell_type": "code",
      "metadata": {
        "colab": {
          "base_uri": "https://localhost:8080/"
        },
        "id": "3lqWvC_7HmsL",
        "outputId": "e1142e34-4035-4b2b-c154-9d0beb72402d"
      },
      "source": [
        "X.drop(['Ticket'],inplace=True,axis=1)\n",
        "X.dtypes"
      ],
      "execution_count": 47,
      "outputs": [
        {
          "output_type": "execute_result",
          "data": {
            "text/plain": [
              "PassengerId      int64\n",
              "Pclass           int64\n",
              "Sex             object\n",
              "Age            float64\n",
              "SibSp            int64\n",
              "Parch            int64\n",
              "Fare           float64\n",
              "Embarked        object\n",
              "dtype: object"
            ]
          },
          "metadata": {
            "tags": []
          },
          "execution_count": 47
        }
      ]
    },
    {
      "cell_type": "code",
      "metadata": {
        "colab": {
          "base_uri": "https://localhost:8080/"
        },
        "id": "zMn6iSDwHvBY",
        "outputId": "38680992-bc95-4612-e6b3-a3e8cc813c24"
      },
      "source": [
        "X.loc[:,['Age','Fare']]=sc.fit_transform(X.loc[:,['Age','Fare']])\n",
        "X.isnull().any()"
      ],
      "execution_count": 48,
      "outputs": [
        {
          "output_type": "execute_result",
          "data": {
            "text/plain": [
              "PassengerId    False\n",
              "Pclass         False\n",
              "Sex            False\n",
              "Age            False\n",
              "SibSp          False\n",
              "Parch          False\n",
              "Fare           False\n",
              "Embarked       False\n",
              "dtype: bool"
            ]
          },
          "metadata": {
            "tags": []
          },
          "execution_count": 48
        }
      ]
    },
    {
      "cell_type": "code",
      "metadata": {
        "colab": {
          "base_uri": "https://localhost:8080/"
        },
        "id": "Kmds6wEIHx3r",
        "outputId": "ec2b0b5c-dcc7-4b66-c8ab-19b7e2dfb548"
      },
      "source": [
        "temp2=oe.fit_transform(X.loc[:,['Embarked','Sex']])\n",
        "temp2"
      ],
      "execution_count": 49,
      "outputs": [
        {
          "output_type": "execute_result",
          "data": {
            "text/plain": [
              "array([[0., 1., 0., 0., 1.],\n",
              "       [0., 0., 1., 1., 0.],\n",
              "       [0., 1., 0., 0., 1.],\n",
              "       ...,\n",
              "       [0., 0., 1., 0., 1.],\n",
              "       [0., 0., 1., 0., 1.],\n",
              "       [1., 0., 0., 0., 1.]])"
            ]
          },
          "metadata": {
            "tags": []
          },
          "execution_count": 49
        }
      ]
    },
    {
      "cell_type": "code",
      "metadata": {
        "colab": {
          "base_uri": "https://localhost:8080/",
          "height": 419
        },
        "id": "YG-po3KWH06b",
        "outputId": "62c32816-da41-4745-fabb-7f46e037f904"
      },
      "source": [
        "X.drop(['Sex','Embarked'],inplace=True,axis=1)\n",
        "X"
      ],
      "execution_count": 50,
      "outputs": [
        {
          "output_type": "execute_result",
          "data": {
            "text/html": [
              "<div>\n",
              "<style scoped>\n",
              "    .dataframe tbody tr th:only-of-type {\n",
              "        vertical-align: middle;\n",
              "    }\n",
              "\n",
              "    .dataframe tbody tr th {\n",
              "        vertical-align: top;\n",
              "    }\n",
              "\n",
              "    .dataframe thead th {\n",
              "        text-align: right;\n",
              "    }\n",
              "</style>\n",
              "<table border=\"1\" class=\"dataframe\">\n",
              "  <thead>\n",
              "    <tr style=\"text-align: right;\">\n",
              "      <th></th>\n",
              "      <th>PassengerId</th>\n",
              "      <th>Pclass</th>\n",
              "      <th>Age</th>\n",
              "      <th>SibSp</th>\n",
              "      <th>Parch</th>\n",
              "      <th>Fare</th>\n",
              "    </tr>\n",
              "  </thead>\n",
              "  <tbody>\n",
              "    <tr>\n",
              "      <th>0</th>\n",
              "      <td>892</td>\n",
              "      <td>3</td>\n",
              "      <td>34.5</td>\n",
              "      <td>0</td>\n",
              "      <td>0</td>\n",
              "      <td>7.8292</td>\n",
              "    </tr>\n",
              "    <tr>\n",
              "      <th>1</th>\n",
              "      <td>893</td>\n",
              "      <td>3</td>\n",
              "      <td>47.0</td>\n",
              "      <td>1</td>\n",
              "      <td>0</td>\n",
              "      <td>7.0000</td>\n",
              "    </tr>\n",
              "    <tr>\n",
              "      <th>2</th>\n",
              "      <td>894</td>\n",
              "      <td>2</td>\n",
              "      <td>62.0</td>\n",
              "      <td>0</td>\n",
              "      <td>0</td>\n",
              "      <td>9.6875</td>\n",
              "    </tr>\n",
              "    <tr>\n",
              "      <th>3</th>\n",
              "      <td>895</td>\n",
              "      <td>3</td>\n",
              "      <td>27.0</td>\n",
              "      <td>0</td>\n",
              "      <td>0</td>\n",
              "      <td>8.6625</td>\n",
              "    </tr>\n",
              "    <tr>\n",
              "      <th>4</th>\n",
              "      <td>896</td>\n",
              "      <td>3</td>\n",
              "      <td>22.0</td>\n",
              "      <td>1</td>\n",
              "      <td>1</td>\n",
              "      <td>12.2875</td>\n",
              "    </tr>\n",
              "    <tr>\n",
              "      <th>...</th>\n",
              "      <td>...</td>\n",
              "      <td>...</td>\n",
              "      <td>...</td>\n",
              "      <td>...</td>\n",
              "      <td>...</td>\n",
              "      <td>...</td>\n",
              "    </tr>\n",
              "    <tr>\n",
              "      <th>413</th>\n",
              "      <td>1305</td>\n",
              "      <td>3</td>\n",
              "      <td>21.0</td>\n",
              "      <td>0</td>\n",
              "      <td>0</td>\n",
              "      <td>8.0500</td>\n",
              "    </tr>\n",
              "    <tr>\n",
              "      <th>414</th>\n",
              "      <td>1306</td>\n",
              "      <td>1</td>\n",
              "      <td>39.0</td>\n",
              "      <td>0</td>\n",
              "      <td>0</td>\n",
              "      <td>108.9000</td>\n",
              "    </tr>\n",
              "    <tr>\n",
              "      <th>415</th>\n",
              "      <td>1307</td>\n",
              "      <td>3</td>\n",
              "      <td>38.5</td>\n",
              "      <td>0</td>\n",
              "      <td>0</td>\n",
              "      <td>7.2500</td>\n",
              "    </tr>\n",
              "    <tr>\n",
              "      <th>416</th>\n",
              "      <td>1308</td>\n",
              "      <td>3</td>\n",
              "      <td>21.0</td>\n",
              "      <td>0</td>\n",
              "      <td>0</td>\n",
              "      <td>8.0500</td>\n",
              "    </tr>\n",
              "    <tr>\n",
              "      <th>417</th>\n",
              "      <td>1309</td>\n",
              "      <td>3</td>\n",
              "      <td>21.0</td>\n",
              "      <td>1</td>\n",
              "      <td>1</td>\n",
              "      <td>22.3583</td>\n",
              "    </tr>\n",
              "  </tbody>\n",
              "</table>\n",
              "<p>418 rows × 6 columns</p>\n",
              "</div>"
            ],
            "text/plain": [
              "     PassengerId  Pclass   Age  SibSp  Parch      Fare\n",
              "0            892       3  34.5      0      0    7.8292\n",
              "1            893       3  47.0      1      0    7.0000\n",
              "2            894       2  62.0      0      0    9.6875\n",
              "3            895       3  27.0      0      0    8.6625\n",
              "4            896       3  22.0      1      1   12.2875\n",
              "..           ...     ...   ...    ...    ...       ...\n",
              "413         1305       3  21.0      0      0    8.0500\n",
              "414         1306       1  39.0      0      0  108.9000\n",
              "415         1307       3  38.5      0      0    7.2500\n",
              "416         1308       3  21.0      0      0    8.0500\n",
              "417         1309       3  21.0      1      1   22.3583\n",
              "\n",
              "[418 rows x 6 columns]"
            ]
          },
          "metadata": {
            "tags": []
          },
          "execution_count": 50
        }
      ]
    },
    {
      "cell_type": "code",
      "metadata": {
        "colab": {
          "base_uri": "https://localhost:8080/"
        },
        "id": "oNczdWX5H3VC",
        "outputId": "5ff82b98-6b10-484c-9deb-0e1a682828d7"
      },
      "source": [
        "X_test=np.concatenate((np.array(X),temp2),axis=1)\n",
        "X_test.shape"
      ],
      "execution_count": 51,
      "outputs": [
        {
          "output_type": "execute_result",
          "data": {
            "text/plain": [
              "(418, 11)"
            ]
          },
          "metadata": {
            "tags": []
          },
          "execution_count": 51
        }
      ]
    },
    {
      "cell_type": "code",
      "metadata": {
        "colab": {
          "base_uri": "https://localhost:8080/"
        },
        "id": "W1eWaTQdH6o0",
        "outputId": "2af845c5-e1b6-4258-aab5-129c3c8c1ded"
      },
      "source": [
        "preds_test=rfc1.predict(X_test)\n",
        "preds_test"
      ],
      "execution_count": 52,
      "outputs": [
        {
          "output_type": "execute_result",
          "data": {
            "text/plain": [
              "array([0, 0, 0, 0, 1, 0, 1, 0, 1, 0, 0, 0, 1, 0, 1, 1, 0, 0, 0, 1, 0, 1,\n",
              "       1, 0, 1, 0, 1, 0, 0, 0, 0, 0, 0, 0, 0, 0, 0, 0, 0, 0, 0, 0, 0, 1,\n",
              "       1, 0, 0, 0, 1, 0, 0, 0, 1, 1, 0, 0, 0, 0, 0, 1, 0, 0, 0, 1, 0, 1,\n",
              "       1, 0, 0, 1, 1, 0, 0, 0, 1, 0, 0, 1, 0, 1, 1, 0, 0, 0, 0, 0, 1, 0,\n",
              "       1, 1, 1, 0, 1, 0, 1, 0, 1, 0, 0, 0, 1, 0, 0, 0, 1, 0, 0, 0, 0, 0,\n",
              "       0, 1, 1, 1, 1, 0, 0, 1, 0, 1, 1, 0, 1, 0, 0, 1, 0, 1, 0, 0, 0, 1,\n",
              "       0, 0, 0, 0, 0, 0, 0, 0, 0, 1, 0, 0, 1, 0, 0, 0, 0, 0, 1, 0, 0, 1,\n",
              "       0, 0, 1, 0, 1, 1, 1, 1, 1, 0, 0, 1, 0, 0, 1, 0, 0, 0, 0, 0, 0, 1,\n",
              "       1, 0, 1, 1, 0, 0, 1, 0, 1, 0, 1, 0, 0, 0, 0, 0, 1, 0, 1, 0, 1, 0,\n",
              "       0, 0, 1, 1, 0, 1, 0, 0, 1, 0, 1, 0, 0, 0, 0, 1, 0, 0, 1, 0, 1, 0,\n",
              "       1, 0, 1, 0, 1, 1, 0, 1, 0, 0, 0, 1, 0, 0, 0, 0, 0, 0, 1, 1, 1, 1,\n",
              "       0, 0, 0, 0, 1, 0, 1, 1, 1, 0, 0, 0, 0, 0, 0, 0, 1, 0, 0, 0, 1, 1,\n",
              "       0, 0, 0, 0, 0, 0, 0, 0, 1, 1, 0, 1, 0, 0, 0, 0, 0, 1, 1, 1, 1, 0,\n",
              "       0, 0, 0, 0, 0, 0, 0, 0, 0, 0, 1, 0, 0, 0, 0, 0, 0, 0, 1, 1, 0, 1,\n",
              "       0, 0, 0, 0, 0, 1, 1, 1, 0, 0, 0, 0, 0, 0, 0, 1, 1, 0, 1, 0, 0, 0,\n",
              "       1, 1, 0, 1, 0, 0, 0, 0, 0, 0, 0, 0, 0, 1, 0, 1, 0, 1, 0, 1, 1, 0,\n",
              "       0, 0, 1, 0, 1, 0, 0, 0, 0, 1, 1, 0, 1, 0, 0, 0, 1, 0, 0, 1, 0, 0,\n",
              "       1, 1, 0, 0, 0, 0, 0, 0, 1, 1, 0, 1, 0, 0, 0, 0, 0, 1, 0, 0, 0, 1,\n",
              "       0, 1, 0, 0, 1, 0, 1, 0, 1, 0, 0, 0, 1, 1, 1, 1, 0, 0, 1, 0, 0, 1])"
            ]
          },
          "metadata": {
            "tags": []
          },
          "execution_count": 52
        }
      ]
    },
    {
      "cell_type": "code",
      "metadata": {
        "id": "VC7FjxjsH9iC"
      },
      "source": [
        "output = pd.DataFrame({'PassengerId': X['PassengerId'],\n",
        "                       'Survived': preds_test})\n",
        "output.to_csv('submission.csv', index=False)"
      ],
      "execution_count": 53,
      "outputs": []
    }
  ]
}